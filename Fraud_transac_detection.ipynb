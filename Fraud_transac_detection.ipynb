{
 "cells": [
  {
   "cell_type": "markdown",
   "id": "efc1aa1f-fe7c-4c41-a243-84c7c7f961c4",
   "metadata": {},
   "source": [
    "# Fraud Transaction Detection"
   ]
  },
  {
   "cell_type": "markdown",
   "id": "778fe914-1840-41ff-a231-b1efdf43de51",
   "metadata": {},
   "source": [
    "## Data Preprocessing"
   ]
  },
  {
   "cell_type": "code",
   "execution_count": 1,
   "id": "a2404825-5e44-4a1e-8e9a-9a85e9aa2c92",
   "metadata": {
    "tags": []
   },
   "outputs": [],
   "source": [
    "import pandas as pd\n",
    "FILE_PATH=\"bitcoin_dataset/\"\n",
    "classes_data=pd.read_csv(FILE_PATH+\"elliptic_txs_classes.csv\")\n",
    "edges_data=pd.read_csv(FILE_PATH+\"elliptic_txs_edgelist.csv\")\n",
    "features_data=pd.read_csv(FILE_PATH+\"elliptic_txs_features.csv\",header=None)"
   ]
  },
  {
   "cell_type": "code",
   "execution_count": 2,
   "id": "765c90df-8b39-499d-98ab-226699dce2ec",
   "metadata": {
    "tags": []
   },
   "outputs": [
    {
     "data": {
      "text/html": [
       "<div>\n",
       "<style scoped>\n",
       "    .dataframe tbody tr th:only-of-type {\n",
       "        vertical-align: middle;\n",
       "    }\n",
       "\n",
       "    .dataframe tbody tr th {\n",
       "        vertical-align: top;\n",
       "    }\n",
       "\n",
       "    .dataframe thead th {\n",
       "        text-align: right;\n",
       "    }\n",
       "</style>\n",
       "<table border=\"1\" class=\"dataframe\">\n",
       "  <thead>\n",
       "    <tr style=\"text-align: right;\">\n",
       "      <th></th>\n",
       "      <th>txId</th>\n",
       "      <th>class</th>\n",
       "    </tr>\n",
       "  </thead>\n",
       "  <tbody>\n",
       "    <tr>\n",
       "      <th>0</th>\n",
       "      <td>230425980</td>\n",
       "      <td>unknown</td>\n",
       "    </tr>\n",
       "    <tr>\n",
       "      <th>1</th>\n",
       "      <td>5530458</td>\n",
       "      <td>unknown</td>\n",
       "    </tr>\n",
       "    <tr>\n",
       "      <th>2</th>\n",
       "      <td>232022460</td>\n",
       "      <td>unknown</td>\n",
       "    </tr>\n",
       "    <tr>\n",
       "      <th>3</th>\n",
       "      <td>232438397</td>\n",
       "      <td>2</td>\n",
       "    </tr>\n",
       "    <tr>\n",
       "      <th>4</th>\n",
       "      <td>230460314</td>\n",
       "      <td>unknown</td>\n",
       "    </tr>\n",
       "  </tbody>\n",
       "</table>\n",
       "</div>"
      ],
      "text/plain": [
       "        txId    class\n",
       "0  230425980  unknown\n",
       "1    5530458  unknown\n",
       "2  232022460  unknown\n",
       "3  232438397        2\n",
       "4  230460314  unknown"
      ]
     },
     "execution_count": 2,
     "metadata": {},
     "output_type": "execute_result"
    }
   ],
   "source": [
    "classes_data.head()"
   ]
  },
  {
   "cell_type": "code",
   "execution_count": 3,
   "id": "850b55f6-fd7e-4574-83f9-0de60af96ea1",
   "metadata": {
    "tags": []
   },
   "outputs": [
    {
     "data": {
      "text/html": [
       "<div>\n",
       "<style scoped>\n",
       "    .dataframe tbody tr th:only-of-type {\n",
       "        vertical-align: middle;\n",
       "    }\n",
       "\n",
       "    .dataframe tbody tr th {\n",
       "        vertical-align: top;\n",
       "    }\n",
       "\n",
       "    .dataframe thead th {\n",
       "        text-align: right;\n",
       "    }\n",
       "</style>\n",
       "<table border=\"1\" class=\"dataframe\">\n",
       "  <thead>\n",
       "    <tr style=\"text-align: right;\">\n",
       "      <th></th>\n",
       "      <th>txId1</th>\n",
       "      <th>txId2</th>\n",
       "    </tr>\n",
       "  </thead>\n",
       "  <tbody>\n",
       "    <tr>\n",
       "      <th>0</th>\n",
       "      <td>230425980</td>\n",
       "      <td>5530458</td>\n",
       "    </tr>\n",
       "    <tr>\n",
       "      <th>1</th>\n",
       "      <td>232022460</td>\n",
       "      <td>232438397</td>\n",
       "    </tr>\n",
       "    <tr>\n",
       "      <th>2</th>\n",
       "      <td>230460314</td>\n",
       "      <td>230459870</td>\n",
       "    </tr>\n",
       "    <tr>\n",
       "      <th>3</th>\n",
       "      <td>230333930</td>\n",
       "      <td>230595899</td>\n",
       "    </tr>\n",
       "    <tr>\n",
       "      <th>4</th>\n",
       "      <td>232013274</td>\n",
       "      <td>232029206</td>\n",
       "    </tr>\n",
       "  </tbody>\n",
       "</table>\n",
       "</div>"
      ],
      "text/plain": [
       "       txId1      txId2\n",
       "0  230425980    5530458\n",
       "1  232022460  232438397\n",
       "2  230460314  230459870\n",
       "3  230333930  230595899\n",
       "4  232013274  232029206"
      ]
     },
     "execution_count": 3,
     "metadata": {},
     "output_type": "execute_result"
    }
   ],
   "source": [
    "edges_data.head()"
   ]
  },
  {
   "cell_type": "code",
   "execution_count": 4,
   "id": "25a64d6e-a3db-4f56-b993-e6c2e5c3d828",
   "metadata": {
    "tags": []
   },
   "outputs": [
    {
     "data": {
      "text/html": [
       "<div>\n",
       "<style scoped>\n",
       "    .dataframe tbody tr th:only-of-type {\n",
       "        vertical-align: middle;\n",
       "    }\n",
       "\n",
       "    .dataframe tbody tr th {\n",
       "        vertical-align: top;\n",
       "    }\n",
       "\n",
       "    .dataframe thead th {\n",
       "        text-align: right;\n",
       "    }\n",
       "</style>\n",
       "<table border=\"1\" class=\"dataframe\">\n",
       "  <thead>\n",
       "    <tr style=\"text-align: right;\">\n",
       "      <th></th>\n",
       "      <th>0</th>\n",
       "      <th>1</th>\n",
       "      <th>2</th>\n",
       "      <th>3</th>\n",
       "      <th>4</th>\n",
       "      <th>5</th>\n",
       "      <th>6</th>\n",
       "      <th>7</th>\n",
       "      <th>8</th>\n",
       "      <th>9</th>\n",
       "      <th>...</th>\n",
       "      <th>157</th>\n",
       "      <th>158</th>\n",
       "      <th>159</th>\n",
       "      <th>160</th>\n",
       "      <th>161</th>\n",
       "      <th>162</th>\n",
       "      <th>163</th>\n",
       "      <th>164</th>\n",
       "      <th>165</th>\n",
       "      <th>166</th>\n",
       "    </tr>\n",
       "  </thead>\n",
       "  <tbody>\n",
       "    <tr>\n",
       "      <th>0</th>\n",
       "      <td>230425980</td>\n",
       "      <td>1</td>\n",
       "      <td>-0.171469</td>\n",
       "      <td>-0.184668</td>\n",
       "      <td>-1.201369</td>\n",
       "      <td>-0.121970</td>\n",
       "      <td>-0.043875</td>\n",
       "      <td>-0.113002</td>\n",
       "      <td>-0.061584</td>\n",
       "      <td>-0.162097</td>\n",
       "      <td>...</td>\n",
       "      <td>-0.562153</td>\n",
       "      <td>-0.600999</td>\n",
       "      <td>1.461330</td>\n",
       "      <td>1.461369</td>\n",
       "      <td>0.018279</td>\n",
       "      <td>-0.087490</td>\n",
       "      <td>-0.131155</td>\n",
       "      <td>-0.097524</td>\n",
       "      <td>-0.120613</td>\n",
       "      <td>-0.119792</td>\n",
       "    </tr>\n",
       "    <tr>\n",
       "      <th>1</th>\n",
       "      <td>5530458</td>\n",
       "      <td>1</td>\n",
       "      <td>-0.171484</td>\n",
       "      <td>-0.184668</td>\n",
       "      <td>-1.201369</td>\n",
       "      <td>-0.121970</td>\n",
       "      <td>-0.043875</td>\n",
       "      <td>-0.113002</td>\n",
       "      <td>-0.061584</td>\n",
       "      <td>-0.162112</td>\n",
       "      <td>...</td>\n",
       "      <td>0.947382</td>\n",
       "      <td>0.673103</td>\n",
       "      <td>-0.979074</td>\n",
       "      <td>-0.978556</td>\n",
       "      <td>0.018279</td>\n",
       "      <td>-0.087490</td>\n",
       "      <td>-0.131155</td>\n",
       "      <td>-0.097524</td>\n",
       "      <td>-0.120613</td>\n",
       "      <td>-0.119792</td>\n",
       "    </tr>\n",
       "    <tr>\n",
       "      <th>2</th>\n",
       "      <td>232022460</td>\n",
       "      <td>1</td>\n",
       "      <td>-0.172107</td>\n",
       "      <td>-0.184668</td>\n",
       "      <td>-1.201369</td>\n",
       "      <td>-0.121970</td>\n",
       "      <td>-0.043875</td>\n",
       "      <td>-0.113002</td>\n",
       "      <td>-0.061584</td>\n",
       "      <td>-0.162749</td>\n",
       "      <td>...</td>\n",
       "      <td>0.670883</td>\n",
       "      <td>0.439728</td>\n",
       "      <td>-0.979074</td>\n",
       "      <td>-0.978556</td>\n",
       "      <td>-0.098889</td>\n",
       "      <td>-0.106715</td>\n",
       "      <td>-0.131155</td>\n",
       "      <td>-0.183671</td>\n",
       "      <td>-0.120613</td>\n",
       "      <td>-0.119792</td>\n",
       "    </tr>\n",
       "    <tr>\n",
       "      <th>3</th>\n",
       "      <td>232438397</td>\n",
       "      <td>1</td>\n",
       "      <td>0.163054</td>\n",
       "      <td>1.963790</td>\n",
       "      <td>-0.646376</td>\n",
       "      <td>12.409294</td>\n",
       "      <td>-0.063725</td>\n",
       "      <td>9.782742</td>\n",
       "      <td>12.414558</td>\n",
       "      <td>-0.163645</td>\n",
       "      <td>...</td>\n",
       "      <td>-0.577099</td>\n",
       "      <td>-0.613614</td>\n",
       "      <td>0.241128</td>\n",
       "      <td>0.241406</td>\n",
       "      <td>1.072793</td>\n",
       "      <td>0.085530</td>\n",
       "      <td>-0.131155</td>\n",
       "      <td>0.677799</td>\n",
       "      <td>-0.120613</td>\n",
       "      <td>-0.119792</td>\n",
       "    </tr>\n",
       "    <tr>\n",
       "      <th>4</th>\n",
       "      <td>230460314</td>\n",
       "      <td>1</td>\n",
       "      <td>1.011523</td>\n",
       "      <td>-0.081127</td>\n",
       "      <td>-1.201369</td>\n",
       "      <td>1.153668</td>\n",
       "      <td>0.333276</td>\n",
       "      <td>1.312656</td>\n",
       "      <td>-0.061584</td>\n",
       "      <td>-0.163523</td>\n",
       "      <td>...</td>\n",
       "      <td>-0.511871</td>\n",
       "      <td>-0.400422</td>\n",
       "      <td>0.517257</td>\n",
       "      <td>0.579382</td>\n",
       "      <td>0.018279</td>\n",
       "      <td>0.277775</td>\n",
       "      <td>0.326394</td>\n",
       "      <td>1.293750</td>\n",
       "      <td>0.178136</td>\n",
       "      <td>0.179117</td>\n",
       "    </tr>\n",
       "  </tbody>\n",
       "</table>\n",
       "<p>5 rows × 167 columns</p>\n",
       "</div>"
      ],
      "text/plain": [
       "         0    1         2         3         4          5         6    \\\n",
       "0  230425980    1 -0.171469 -0.184668 -1.201369  -0.121970 -0.043875   \n",
       "1    5530458    1 -0.171484 -0.184668 -1.201369  -0.121970 -0.043875   \n",
       "2  232022460    1 -0.172107 -0.184668 -1.201369  -0.121970 -0.043875   \n",
       "3  232438397    1  0.163054  1.963790 -0.646376  12.409294 -0.063725   \n",
       "4  230460314    1  1.011523 -0.081127 -1.201369   1.153668  0.333276   \n",
       "\n",
       "        7          8         9    ...       157       158       159       160  \\\n",
       "0 -0.113002  -0.061584 -0.162097  ... -0.562153 -0.600999  1.461330  1.461369   \n",
       "1 -0.113002  -0.061584 -0.162112  ...  0.947382  0.673103 -0.979074 -0.978556   \n",
       "2 -0.113002  -0.061584 -0.162749  ...  0.670883  0.439728 -0.979074 -0.978556   \n",
       "3  9.782742  12.414558 -0.163645  ... -0.577099 -0.613614  0.241128  0.241406   \n",
       "4  1.312656  -0.061584 -0.163523  ... -0.511871 -0.400422  0.517257  0.579382   \n",
       "\n",
       "        161       162       163       164       165       166  \n",
       "0  0.018279 -0.087490 -0.131155 -0.097524 -0.120613 -0.119792  \n",
       "1  0.018279 -0.087490 -0.131155 -0.097524 -0.120613 -0.119792  \n",
       "2 -0.098889 -0.106715 -0.131155 -0.183671 -0.120613 -0.119792  \n",
       "3  1.072793  0.085530 -0.131155  0.677799 -0.120613 -0.119792  \n",
       "4  0.018279  0.277775  0.326394  1.293750  0.178136  0.179117  \n",
       "\n",
       "[5 rows x 167 columns]"
      ]
     },
     "execution_count": 4,
     "metadata": {},
     "output_type": "execute_result"
    }
   ],
   "source": [
    "features_data.head()"
   ]
  },
  {
   "cell_type": "code",
   "execution_count": 5,
   "id": "d059cf7a-9789-4e11-8c57-b0195d1ab2e3",
   "metadata": {
    "tags": []
   },
   "outputs": [],
   "source": [
    "from matplotlib import pyplot as plt\n",
    "import numpy as np\n",
    "from torch_geometric.nn.conv import GATConv,GATv2Conv,GCNConv\n",
    "import torch\n",
    "import torch.nn as nn\n",
    "from sklearn.model_selection import train_test_split\n",
    "from sklearn.metrics import accuracy_score,f1_score,roc_auc_score,precision_score,recall_score,confusion_matrix"
   ]
  },
  {
   "cell_type": "code",
   "execution_count": 6,
   "id": "c1c8148f-a7c7-4e6a-835f-3fc77adf087a",
   "metadata": {
    "tags": []
   },
   "outputs": [
    {
     "data": {
      "text/plain": [
       "(array([157205.,      0.,      0.,      0.,      0.,  42019.,      0.,\n",
       "             0.,      0.,   4545.]),\n",
       " array([0. , 0.2, 0.4, 0.6, 0.8, 1. , 1.2, 1.4, 1.6, 1.8, 2. ]),\n",
       " <BarContainer object of 10 artists>)"
      ]
     },
     "execution_count": 6,
     "metadata": {},
     "output_type": "execute_result"
    },
    {
     "data": {
      "image/png": "[encoded data removed]",
      "text/plain": [
       "<Figure size 640x480 with 1 Axes>"
      ]
     },
     "metadata": {},
     "output_type": "display_data"
    }
   ],
   "source": [
    "plt.hist(classes_data['class'])"
   ]
  },
  {
   "cell_type": "code",
   "execution_count": 7,
   "id": "95681787-4b6a-4434-8e84-0baa1c3b0cc4",
   "metadata": {
    "tags": []
   },
   "outputs": [],
   "source": [
    "classes_data['class']=classes_data['class'].map({'1':0,'2':1,'unknown':2})"
   ]
  },
  {
   "cell_type": "code",
   "execution_count": 8,
   "id": "d7564a2f-4cd3-41c0-82b7-d066210858aa",
   "metadata": {
    "tags": []
   },
   "outputs": [
    {
     "data": {
      "text/html": [
       "<div>\n",
       "<style scoped>\n",
       "    .dataframe tbody tr th:only-of-type {\n",
       "        vertical-align: middle;\n",
       "    }\n",
       "\n",
       "    .dataframe tbody tr th {\n",
       "        vertical-align: top;\n",
       "    }\n",
       "\n",
       "    .dataframe thead th {\n",
       "        text-align: right;\n",
       "    }\n",
       "</style>\n",
       "<table border=\"1\" class=\"dataframe\">\n",
       "  <thead>\n",
       "    <tr style=\"text-align: right;\">\n",
       "      <th></th>\n",
       "      <th>txId</th>\n",
       "      <th>class</th>\n",
       "    </tr>\n",
       "  </thead>\n",
       "  <tbody>\n",
       "    <tr>\n",
       "      <th>0</th>\n",
       "      <td>230425980</td>\n",
       "      <td>2</td>\n",
       "    </tr>\n",
       "    <tr>\n",
       "      <th>1</th>\n",
       "      <td>5530458</td>\n",
       "      <td>2</td>\n",
       "    </tr>\n",
       "    <tr>\n",
       "      <th>2</th>\n",
       "      <td>232022460</td>\n",
       "      <td>2</td>\n",
       "    </tr>\n",
       "    <tr>\n",
       "      <th>3</th>\n",
       "      <td>232438397</td>\n",
       "      <td>1</td>\n",
       "    </tr>\n",
       "    <tr>\n",
       "      <th>4</th>\n",
       "      <td>230460314</td>\n",
       "      <td>2</td>\n",
       "    </tr>\n",
       "  </tbody>\n",
       "</table>\n",
       "</div>"
      ],
      "text/plain": [
       "        txId  class\n",
       "0  230425980      2\n",
       "1    5530458      2\n",
       "2  232022460      2\n",
       "3  232438397      1\n",
       "4  230460314      2"
      ]
     },
     "execution_count": 8,
     "metadata": {},
     "output_type": "execute_result"
    }
   ],
   "source": [
    "classes_data.head()"
   ]
  },
  {
   "cell_type": "code",
   "execution_count": 9,
   "id": "78882c6b-88c9-40f5-ad89-808f51a3ed62",
   "metadata": {
    "tags": []
   },
   "outputs": [
    {
     "data": {
      "text/html": [
       "<div>\n",
       "<style scoped>\n",
       "    .dataframe tbody tr th:only-of-type {\n",
       "        vertical-align: middle;\n",
       "    }\n",
       "\n",
       "    .dataframe tbody tr th {\n",
       "        vertical-align: top;\n",
       "    }\n",
       "\n",
       "    .dataframe thead th {\n",
       "        text-align: right;\n",
       "    }\n",
       "</style>\n",
       "<table border=\"1\" class=\"dataframe\">\n",
       "  <thead>\n",
       "    <tr style=\"text-align: right;\">\n",
       "      <th></th>\n",
       "      <th>0</th>\n",
       "      <th>1</th>\n",
       "      <th>2</th>\n",
       "      <th>3</th>\n",
       "      <th>4</th>\n",
       "      <th>5</th>\n",
       "      <th>6</th>\n",
       "      <th>7</th>\n",
       "      <th>8</th>\n",
       "      <th>9</th>\n",
       "      <th>...</th>\n",
       "      <th>159</th>\n",
       "      <th>160</th>\n",
       "      <th>161</th>\n",
       "      <th>162</th>\n",
       "      <th>163</th>\n",
       "      <th>164</th>\n",
       "      <th>165</th>\n",
       "      <th>166</th>\n",
       "      <th>txId</th>\n",
       "      <th>class</th>\n",
       "    </tr>\n",
       "  </thead>\n",
       "  <tbody>\n",
       "    <tr>\n",
       "      <th>0</th>\n",
       "      <td>230425980</td>\n",
       "      <td>1</td>\n",
       "      <td>-0.171469</td>\n",
       "      <td>-0.184668</td>\n",
       "      <td>-1.201369</td>\n",
       "      <td>-0.121970</td>\n",
       "      <td>-0.043875</td>\n",
       "      <td>-0.113002</td>\n",
       "      <td>-0.061584</td>\n",
       "      <td>-0.162097</td>\n",
       "      <td>...</td>\n",
       "      <td>1.461330</td>\n",
       "      <td>1.461369</td>\n",
       "      <td>0.018279</td>\n",
       "      <td>-0.087490</td>\n",
       "      <td>-0.131155</td>\n",
       "      <td>-0.097524</td>\n",
       "      <td>-0.120613</td>\n",
       "      <td>-0.119792</td>\n",
       "      <td>230425980</td>\n",
       "      <td>2</td>\n",
       "    </tr>\n",
       "    <tr>\n",
       "      <th>1</th>\n",
       "      <td>5530458</td>\n",
       "      <td>1</td>\n",
       "      <td>-0.171484</td>\n",
       "      <td>-0.184668</td>\n",
       "      <td>-1.201369</td>\n",
       "      <td>-0.121970</td>\n",
       "      <td>-0.043875</td>\n",
       "      <td>-0.113002</td>\n",
       "      <td>-0.061584</td>\n",
       "      <td>-0.162112</td>\n",
       "      <td>...</td>\n",
       "      <td>-0.979074</td>\n",
       "      <td>-0.978556</td>\n",
       "      <td>0.018279</td>\n",
       "      <td>-0.087490</td>\n",
       "      <td>-0.131155</td>\n",
       "      <td>-0.097524</td>\n",
       "      <td>-0.120613</td>\n",
       "      <td>-0.119792</td>\n",
       "      <td>5530458</td>\n",
       "      <td>2</td>\n",
       "    </tr>\n",
       "    <tr>\n",
       "      <th>2</th>\n",
       "      <td>232022460</td>\n",
       "      <td>1</td>\n",
       "      <td>-0.172107</td>\n",
       "      <td>-0.184668</td>\n",
       "      <td>-1.201369</td>\n",
       "      <td>-0.121970</td>\n",
       "      <td>-0.043875</td>\n",
       "      <td>-0.113002</td>\n",
       "      <td>-0.061584</td>\n",
       "      <td>-0.162749</td>\n",
       "      <td>...</td>\n",
       "      <td>-0.979074</td>\n",
       "      <td>-0.978556</td>\n",
       "      <td>-0.098889</td>\n",
       "      <td>-0.106715</td>\n",
       "      <td>-0.131155</td>\n",
       "      <td>-0.183671</td>\n",
       "      <td>-0.120613</td>\n",
       "      <td>-0.119792</td>\n",
       "      <td>232022460</td>\n",
       "      <td>2</td>\n",
       "    </tr>\n",
       "    <tr>\n",
       "      <th>3</th>\n",
       "      <td>232438397</td>\n",
       "      <td>1</td>\n",
       "      <td>0.163054</td>\n",
       "      <td>1.963790</td>\n",
       "      <td>-0.646376</td>\n",
       "      <td>12.409294</td>\n",
       "      <td>-0.063725</td>\n",
       "      <td>9.782742</td>\n",
       "      <td>12.414558</td>\n",
       "      <td>-0.163645</td>\n",
       "      <td>...</td>\n",
       "      <td>0.241128</td>\n",
       "      <td>0.241406</td>\n",
       "      <td>1.072793</td>\n",
       "      <td>0.085530</td>\n",
       "      <td>-0.131155</td>\n",
       "      <td>0.677799</td>\n",
       "      <td>-0.120613</td>\n",
       "      <td>-0.119792</td>\n",
       "      <td>232438397</td>\n",
       "      <td>1</td>\n",
       "    </tr>\n",
       "    <tr>\n",
       "      <th>4</th>\n",
       "      <td>230460314</td>\n",
       "      <td>1</td>\n",
       "      <td>1.011523</td>\n",
       "      <td>-0.081127</td>\n",
       "      <td>-1.201369</td>\n",
       "      <td>1.153668</td>\n",
       "      <td>0.333276</td>\n",
       "      <td>1.312656</td>\n",
       "      <td>-0.061584</td>\n",
       "      <td>-0.163523</td>\n",
       "      <td>...</td>\n",
       "      <td>0.517257</td>\n",
       "      <td>0.579382</td>\n",
       "      <td>0.018279</td>\n",
       "      <td>0.277775</td>\n",
       "      <td>0.326394</td>\n",
       "      <td>1.293750</td>\n",
       "      <td>0.178136</td>\n",
       "      <td>0.179117</td>\n",
       "      <td>230460314</td>\n",
       "      <td>2</td>\n",
       "    </tr>\n",
       "  </tbody>\n",
       "</table>\n",
       "<p>5 rows × 169 columns</p>\n",
       "</div>"
      ],
      "text/plain": [
       "           0  1         2         3         4          5         6         7  \\\n",
       "0  230425980  1 -0.171469 -0.184668 -1.201369  -0.121970 -0.043875 -0.113002   \n",
       "1    5530458  1 -0.171484 -0.184668 -1.201369  -0.121970 -0.043875 -0.113002   \n",
       "2  232022460  1 -0.172107 -0.184668 -1.201369  -0.121970 -0.043875 -0.113002   \n",
       "3  232438397  1  0.163054  1.963790 -0.646376  12.409294 -0.063725  9.782742   \n",
       "4  230460314  1  1.011523 -0.081127 -1.201369   1.153668  0.333276  1.312656   \n",
       "\n",
       "           8         9  ...       159       160       161       162       163  \\\n",
       "0  -0.061584 -0.162097  ...  1.461330  1.461369  0.018279 -0.087490 -0.131155   \n",
       "1  -0.061584 -0.162112  ... -0.979074 -0.978556  0.018279 -0.087490 -0.131155   \n",
       "2  -0.061584 -0.162749  ... -0.979074 -0.978556 -0.098889 -0.106715 -0.131155   \n",
       "3  12.414558 -0.163645  ...  0.241128  0.241406  1.072793  0.085530 -0.131155   \n",
       "4  -0.061584 -0.163523  ...  0.517257  0.579382  0.018279  0.277775  0.326394   \n",
       "\n",
       "        164       165       166       txId  class  \n",
       "0 -0.097524 -0.120613 -0.119792  230425980      2  \n",
       "1 -0.097524 -0.120613 -0.119792    5530458      2  \n",
       "2 -0.183671 -0.120613 -0.119792  232022460      2  \n",
       "3  0.677799 -0.120613 -0.119792  232438397      1  \n",
       "4  1.293750  0.178136  0.179117  230460314      2  \n",
       "\n",
       "[5 rows x 169 columns]"
      ]
     },
     "execution_count": 9,
     "metadata": {},
     "output_type": "execute_result"
    }
   ],
   "source": [
    "# merging class and features\n",
    "class_features_merged_data=features_data.merge(classes_data,how=\"left\",right_on=\"txId\",left_on=0)\n",
    "class_features_merged_data.head()"
   ]
  },
  {
   "cell_type": "code",
   "execution_count": 10,
   "id": "2957b1ea-98b5-42bd-b2b6-ff9322bed5f9",
   "metadata": {
    "tags": []
   },
   "outputs": [
    {
     "data": {
      "text/html": [
       "<div>\n",
       "<style scoped>\n",
       "    .dataframe tbody tr th:only-of-type {\n",
       "        vertical-align: middle;\n",
       "    }\n",
       "\n",
       "    .dataframe tbody tr th {\n",
       "        vertical-align: top;\n",
       "    }\n",
       "\n",
       "    .dataframe thead th {\n",
       "        text-align: right;\n",
       "    }\n",
       "</style>\n",
       "<table border=\"1\" class=\"dataframe\">\n",
       "  <thead>\n",
       "    <tr style=\"text-align: right;\">\n",
       "      <th></th>\n",
       "      <th>0</th>\n",
       "      <th>1</th>\n",
       "      <th>2</th>\n",
       "      <th>3</th>\n",
       "      <th>4</th>\n",
       "      <th>5</th>\n",
       "      <th>6</th>\n",
       "      <th>7</th>\n",
       "      <th>8</th>\n",
       "      <th>9</th>\n",
       "      <th>...</th>\n",
       "      <th>159</th>\n",
       "      <th>160</th>\n",
       "      <th>161</th>\n",
       "      <th>162</th>\n",
       "      <th>163</th>\n",
       "      <th>164</th>\n",
       "      <th>165</th>\n",
       "      <th>166</th>\n",
       "      <th>txId</th>\n",
       "      <th>class</th>\n",
       "    </tr>\n",
       "  </thead>\n",
       "  <tbody>\n",
       "    <tr>\n",
       "      <th>199861</th>\n",
       "      <td>1076</td>\n",
       "      <td>48</td>\n",
       "      <td>-0.168500</td>\n",
       "      <td>0.270909</td>\n",
       "      <td>-0.091383</td>\n",
       "      <td>-0.046932</td>\n",
       "      <td>-0.043875</td>\n",
       "      <td>-0.029140</td>\n",
       "      <td>-0.061584</td>\n",
       "      <td>-0.163591</td>\n",
       "      <td>...</td>\n",
       "      <td>1.461330</td>\n",
       "      <td>1.461369</td>\n",
       "      <td>0.018279</td>\n",
       "      <td>0.470019</td>\n",
       "      <td>1.216796</td>\n",
       "      <td>1.151607</td>\n",
       "      <td>1.519700</td>\n",
       "      <td>1.521399</td>\n",
       "      <td>1076</td>\n",
       "      <td>2</td>\n",
       "    </tr>\n",
       "    <tr>\n",
       "      <th>31635</th>\n",
       "      <td>2534</td>\n",
       "      <td>6</td>\n",
       "      <td>-0.170834</td>\n",
       "      <td>-0.131425</td>\n",
       "      <td>1.018602</td>\n",
       "      <td>0.028105</td>\n",
       "      <td>0.055376</td>\n",
       "      <td>0.054722</td>\n",
       "      <td>-0.061584</td>\n",
       "      <td>-0.163572</td>\n",
       "      <td>...</td>\n",
       "      <td>0.955101</td>\n",
       "      <td>0.459257</td>\n",
       "      <td>-0.098889</td>\n",
       "      <td>-0.087490</td>\n",
       "      <td>-0.099080</td>\n",
       "      <td>-0.122137</td>\n",
       "      <td>-0.379970</td>\n",
       "      <td>-0.379288</td>\n",
       "      <td>2534</td>\n",
       "      <td>1</td>\n",
       "    </tr>\n",
       "    <tr>\n",
       "      <th>133793</th>\n",
       "      <td>3181</td>\n",
       "      <td>34</td>\n",
       "      <td>1.305212</td>\n",
       "      <td>-0.210553</td>\n",
       "      <td>-1.756361</td>\n",
       "      <td>-0.121970</td>\n",
       "      <td>97.300650</td>\n",
       "      <td>-0.113002</td>\n",
       "      <td>-0.061584</td>\n",
       "      <td>1.348765</td>\n",
       "      <td>...</td>\n",
       "      <td>0.059948</td>\n",
       "      <td>0.113967</td>\n",
       "      <td>-0.098889</td>\n",
       "      <td>1.969527</td>\n",
       "      <td>0.037532</td>\n",
       "      <td>-0.131010</td>\n",
       "      <td>0.006994</td>\n",
       "      <td>0.017772</td>\n",
       "      <td>3181</td>\n",
       "      <td>1</td>\n",
       "    </tr>\n",
       "    <tr>\n",
       "      <th>2945</th>\n",
       "      <td>3321</td>\n",
       "      <td>1</td>\n",
       "      <td>-0.169615</td>\n",
       "      <td>-0.184668</td>\n",
       "      <td>-1.201369</td>\n",
       "      <td>-0.121970</td>\n",
       "      <td>-0.043875</td>\n",
       "      <td>-0.113002</td>\n",
       "      <td>-0.061584</td>\n",
       "      <td>-0.160199</td>\n",
       "      <td>...</td>\n",
       "      <td>0.241128</td>\n",
       "      <td>0.241406</td>\n",
       "      <td>-0.098889</td>\n",
       "      <td>-0.087490</td>\n",
       "      <td>-0.084674</td>\n",
       "      <td>-0.140597</td>\n",
       "      <td>1.519700</td>\n",
       "      <td>1.521399</td>\n",
       "      <td>3321</td>\n",
       "      <td>2</td>\n",
       "    </tr>\n",
       "    <tr>\n",
       "      <th>198375</th>\n",
       "      <td>3889</td>\n",
       "      <td>48</td>\n",
       "      <td>-0.086232</td>\n",
       "      <td>-0.101835</td>\n",
       "      <td>-0.646376</td>\n",
       "      <td>-0.121970</td>\n",
       "      <td>17.046997</td>\n",
       "      <td>-0.113002</td>\n",
       "      <td>-0.061584</td>\n",
       "      <td>-0.074885</td>\n",
       "      <td>...</td>\n",
       "      <td>0.082065</td>\n",
       "      <td>0.114773</td>\n",
       "      <td>-0.098889</td>\n",
       "      <td>8.948005</td>\n",
       "      <td>1.024948</td>\n",
       "      <td>-0.009570</td>\n",
       "      <td>-0.080708</td>\n",
       "      <td>-0.123601</td>\n",
       "      <td>3889</td>\n",
       "      <td>2</td>\n",
       "    </tr>\n",
       "  </tbody>\n",
       "</table>\n",
       "<p>5 rows × 169 columns</p>\n",
       "</div>"
      ],
      "text/plain": [
       "           0   1         2         3         4         5          6         7  \\\n",
       "199861  1076  48 -0.168500  0.270909 -0.091383 -0.046932  -0.043875 -0.029140   \n",
       "31635   2534   6 -0.170834 -0.131425  1.018602  0.028105   0.055376  0.054722   \n",
       "133793  3181  34  1.305212 -0.210553 -1.756361 -0.121970  97.300650 -0.113002   \n",
       "2945    3321   1 -0.169615 -0.184668 -1.201369 -0.121970  -0.043875 -0.113002   \n",
       "198375  3889  48 -0.086232 -0.101835 -0.646376 -0.121970  17.046997 -0.113002   \n",
       "\n",
       "               8         9  ...       159       160       161       162  \\\n",
       "199861 -0.061584 -0.163591  ...  1.461330  1.461369  0.018279  0.470019   \n",
       "31635  -0.061584 -0.163572  ...  0.955101  0.459257 -0.098889 -0.087490   \n",
       "133793 -0.061584  1.348765  ...  0.059948  0.113967 -0.098889  1.969527   \n",
       "2945   -0.061584 -0.160199  ...  0.241128  0.241406 -0.098889 -0.087490   \n",
       "198375 -0.061584 -0.074885  ...  0.082065  0.114773 -0.098889  8.948005   \n",
       "\n",
       "             163       164       165       166  txId  class  \n",
       "199861  1.216796  1.151607  1.519700  1.521399  1076      2  \n",
       "31635  -0.099080 -0.122137 -0.379970 -0.379288  2534      1  \n",
       "133793  0.037532 -0.131010  0.006994  0.017772  3181      1  \n",
       "2945   -0.084674 -0.140597  1.519700  1.521399  3321      2  \n",
       "198375  1.024948 -0.009570 -0.080708 -0.123601  3889      2  \n",
       "\n",
       "[5 rows x 169 columns]"
      ]
     },
     "execution_count": 10,
     "metadata": {},
     "output_type": "execute_result"
    }
   ],
   "source": [
    "class_features_merged_data=class_features_merged_data.sort_values(0)\n",
    "class_features_merged_data.head()"
   ]
  },
  {
   "cell_type": "code",
   "execution_count": 11,
   "id": "4e459b8f-a6a4-44e6-ada3-d2dbd9e0c429",
   "metadata": {
    "tags": []
   },
   "outputs": [
    {
     "data": {
      "text/html": [
       "<div>\n",
       "<style scoped>\n",
       "    .dataframe tbody tr th:only-of-type {\n",
       "        vertical-align: middle;\n",
       "    }\n",
       "\n",
       "    .dataframe tbody tr th {\n",
       "        vertical-align: top;\n",
       "    }\n",
       "\n",
       "    .dataframe thead th {\n",
       "        text-align: right;\n",
       "    }\n",
       "</style>\n",
       "<table border=\"1\" class=\"dataframe\">\n",
       "  <thead>\n",
       "    <tr style=\"text-align: right;\">\n",
       "      <th></th>\n",
       "      <th>0</th>\n",
       "      <th>1</th>\n",
       "      <th>2</th>\n",
       "      <th>3</th>\n",
       "      <th>4</th>\n",
       "      <th>5</th>\n",
       "      <th>6</th>\n",
       "      <th>7</th>\n",
       "      <th>8</th>\n",
       "      <th>9</th>\n",
       "      <th>...</th>\n",
       "      <th>159</th>\n",
       "      <th>160</th>\n",
       "      <th>161</th>\n",
       "      <th>162</th>\n",
       "      <th>163</th>\n",
       "      <th>164</th>\n",
       "      <th>165</th>\n",
       "      <th>166</th>\n",
       "      <th>txId</th>\n",
       "      <th>class</th>\n",
       "    </tr>\n",
       "  </thead>\n",
       "  <tbody>\n",
       "    <tr>\n",
       "      <th>0</th>\n",
       "      <td>1076</td>\n",
       "      <td>48</td>\n",
       "      <td>-0.168500</td>\n",
       "      <td>0.270909</td>\n",
       "      <td>-0.091383</td>\n",
       "      <td>-0.046932</td>\n",
       "      <td>-0.043875</td>\n",
       "      <td>-0.029140</td>\n",
       "      <td>-0.061584</td>\n",
       "      <td>-0.163591</td>\n",
       "      <td>...</td>\n",
       "      <td>1.461330</td>\n",
       "      <td>1.461369</td>\n",
       "      <td>0.018279</td>\n",
       "      <td>0.470019</td>\n",
       "      <td>1.216796</td>\n",
       "      <td>1.151607</td>\n",
       "      <td>1.519700</td>\n",
       "      <td>1.521399</td>\n",
       "      <td>1076</td>\n",
       "      <td>2</td>\n",
       "    </tr>\n",
       "    <tr>\n",
       "      <th>1</th>\n",
       "      <td>2534</td>\n",
       "      <td>6</td>\n",
       "      <td>-0.170834</td>\n",
       "      <td>-0.131425</td>\n",
       "      <td>1.018602</td>\n",
       "      <td>0.028105</td>\n",
       "      <td>0.055376</td>\n",
       "      <td>0.054722</td>\n",
       "      <td>-0.061584</td>\n",
       "      <td>-0.163572</td>\n",
       "      <td>...</td>\n",
       "      <td>0.955101</td>\n",
       "      <td>0.459257</td>\n",
       "      <td>-0.098889</td>\n",
       "      <td>-0.087490</td>\n",
       "      <td>-0.099080</td>\n",
       "      <td>-0.122137</td>\n",
       "      <td>-0.379970</td>\n",
       "      <td>-0.379288</td>\n",
       "      <td>2534</td>\n",
       "      <td>1</td>\n",
       "    </tr>\n",
       "    <tr>\n",
       "      <th>2</th>\n",
       "      <td>3181</td>\n",
       "      <td>34</td>\n",
       "      <td>1.305212</td>\n",
       "      <td>-0.210553</td>\n",
       "      <td>-1.756361</td>\n",
       "      <td>-0.121970</td>\n",
       "      <td>97.300650</td>\n",
       "      <td>-0.113002</td>\n",
       "      <td>-0.061584</td>\n",
       "      <td>1.348765</td>\n",
       "      <td>...</td>\n",
       "      <td>0.059948</td>\n",
       "      <td>0.113967</td>\n",
       "      <td>-0.098889</td>\n",
       "      <td>1.969527</td>\n",
       "      <td>0.037532</td>\n",
       "      <td>-0.131010</td>\n",
       "      <td>0.006994</td>\n",
       "      <td>0.017772</td>\n",
       "      <td>3181</td>\n",
       "      <td>1</td>\n",
       "    </tr>\n",
       "    <tr>\n",
       "      <th>3</th>\n",
       "      <td>3321</td>\n",
       "      <td>1</td>\n",
       "      <td>-0.169615</td>\n",
       "      <td>-0.184668</td>\n",
       "      <td>-1.201369</td>\n",
       "      <td>-0.121970</td>\n",
       "      <td>-0.043875</td>\n",
       "      <td>-0.113002</td>\n",
       "      <td>-0.061584</td>\n",
       "      <td>-0.160199</td>\n",
       "      <td>...</td>\n",
       "      <td>0.241128</td>\n",
       "      <td>0.241406</td>\n",
       "      <td>-0.098889</td>\n",
       "      <td>-0.087490</td>\n",
       "      <td>-0.084674</td>\n",
       "      <td>-0.140597</td>\n",
       "      <td>1.519700</td>\n",
       "      <td>1.521399</td>\n",
       "      <td>3321</td>\n",
       "      <td>2</td>\n",
       "    </tr>\n",
       "    <tr>\n",
       "      <th>4</th>\n",
       "      <td>3889</td>\n",
       "      <td>48</td>\n",
       "      <td>-0.086232</td>\n",
       "      <td>-0.101835</td>\n",
       "      <td>-0.646376</td>\n",
       "      <td>-0.121970</td>\n",
       "      <td>17.046997</td>\n",
       "      <td>-0.113002</td>\n",
       "      <td>-0.061584</td>\n",
       "      <td>-0.074885</td>\n",
       "      <td>...</td>\n",
       "      <td>0.082065</td>\n",
       "      <td>0.114773</td>\n",
       "      <td>-0.098889</td>\n",
       "      <td>8.948005</td>\n",
       "      <td>1.024948</td>\n",
       "      <td>-0.009570</td>\n",
       "      <td>-0.080708</td>\n",
       "      <td>-0.123601</td>\n",
       "      <td>3889</td>\n",
       "      <td>2</td>\n",
       "    </tr>\n",
       "  </tbody>\n",
       "</table>\n",
       "<p>5 rows × 169 columns</p>\n",
       "</div>"
      ],
      "text/plain": [
       "      0   1         2         3         4         5          6         7  \\\n",
       "0  1076  48 -0.168500  0.270909 -0.091383 -0.046932  -0.043875 -0.029140   \n",
       "1  2534   6 -0.170834 -0.131425  1.018602  0.028105   0.055376  0.054722   \n",
       "2  3181  34  1.305212 -0.210553 -1.756361 -0.121970  97.300650 -0.113002   \n",
       "3  3321   1 -0.169615 -0.184668 -1.201369 -0.121970  -0.043875 -0.113002   \n",
       "4  3889  48 -0.086232 -0.101835 -0.646376 -0.121970  17.046997 -0.113002   \n",
       "\n",
       "          8         9  ...       159       160       161       162       163  \\\n",
       "0 -0.061584 -0.163591  ...  1.461330  1.461369  0.018279  0.470019  1.216796   \n",
       "1 -0.061584 -0.163572  ...  0.955101  0.459257 -0.098889 -0.087490 -0.099080   \n",
       "2 -0.061584  1.348765  ...  0.059948  0.113967 -0.098889  1.969527  0.037532   \n",
       "3 -0.061584 -0.160199  ...  0.241128  0.241406 -0.098889 -0.087490 -0.084674   \n",
       "4 -0.061584 -0.074885  ...  0.082065  0.114773 -0.098889  8.948005  1.024948   \n",
       "\n",
       "        164       165       166  txId  class  \n",
       "0  1.151607  1.519700  1.521399  1076      2  \n",
       "1 -0.122137 -0.379970 -0.379288  2534      1  \n",
       "2 -0.131010  0.006994  0.017772  3181      1  \n",
       "3 -0.140597  1.519700  1.521399  3321      2  \n",
       "4 -0.009570 -0.080708 -0.123601  3889      2  \n",
       "\n",
       "[5 rows x 169 columns]"
      ]
     },
     "execution_count": 11,
     "metadata": {},
     "output_type": "execute_result"
    }
   ],
   "source": [
    "class_features_merged_data=class_features_merged_data.reset_index(drop=True)\n",
    "class_features_merged_data.head()"
   ]
  },
  {
   "cell_type": "code",
   "execution_count": 12,
   "id": "6d4134d4-98cb-4925-87ee-959eabc614b6",
   "metadata": {
    "tags": []
   },
   "outputs": [
    {
     "data": {
      "text/plain": [
       "array([     1076,      2534,      3181, ..., 403234715, 403235564,\n",
       "       403244581], dtype=int64)"
      ]
     },
     "execution_count": 12,
     "metadata": {},
     "output_type": "execute_result"
    }
   ],
   "source": [
    "nodes=class_features_merged_data[0].values\n",
    "nodes"
   ]
  },
  {
   "cell_type": "code",
   "execution_count": 13,
   "id": "73824fd5-1c5d-46cb-b17c-1a7087cb4bb4",
   "metadata": {
    "tags": []
   },
   "outputs": [],
   "source": [
    "mapped_nodes={}\n",
    "for i,j in enumerate(nodes):\n",
    "    mapped_nodes[j]=i\n",
    "# mapped_nodes"
   ]
  },
  {
   "cell_type": "code",
   "execution_count": 14,
   "id": "f0bcf39b-0ad4-4731-b209-e1522d48a3c8",
   "metadata": {
    "tags": []
   },
   "outputs": [
    {
     "data": {
      "text/plain": [
       "0         230425980\n",
       "1         232022460\n",
       "2         230460314\n",
       "3         230333930\n",
       "4         232013274\n",
       "            ...    \n",
       "234350    158365409\n",
       "234351    188708874\n",
       "234352    157659064\n",
       "234353     87414554\n",
       "234354    158589452\n",
       "Name: txId1, Length: 234355, dtype: int64"
      ]
     },
     "execution_count": 14,
     "metadata": {},
     "output_type": "execute_result"
    }
   ],
   "source": [
    "edges=edges_data.copy()\n",
    "edges['txId1']"
   ]
  },
  {
   "cell_type": "code",
   "execution_count": 15,
   "id": "cd415bfd-cc3c-488a-abfe-311b5a315d49",
   "metadata": {
    "tags": []
   },
   "outputs": [],
   "source": [
    "edges['txId1']=edges['txId1'].map(mapped_nodes)"
   ]
  },
  {
   "cell_type": "code",
   "execution_count": 16,
   "id": "bdd58c31-6d5c-496a-9a15-aeb4fca88af2",
   "metadata": {
    "tags": []
   },
   "outputs": [
    {
     "data": {
      "text/plain": [
       "0         138670\n",
       "1         141325\n",
       "2         139232\n",
       "3         138150\n",
       "4         141268\n",
       "           ...  \n",
       "234350    100863\n",
       "234351    112040\n",
       "234352    100420\n",
       "234353     54833\n",
       "234354    101159\n",
       "Name: txId1, Length: 234355, dtype: int64"
      ]
     },
     "execution_count": 16,
     "metadata": {},
     "output_type": "execute_result"
    }
   ],
   "source": [
    "edges['txId1']"
   ]
  },
  {
   "cell_type": "code",
   "execution_count": 17,
   "id": "a3b0b27d-efbe-4f94-a970-3110d5e76329",
   "metadata": {
    "tags": []
   },
   "outputs": [
    {
     "data": {
      "text/plain": [
       "138670"
      ]
     },
     "execution_count": 17,
     "metadata": {},
     "output_type": "execute_result"
    }
   ],
   "source": [
    "mapped_nodes[230425980]"
   ]
  },
  {
   "cell_type": "code",
   "execution_count": 18,
   "id": "508747ce-22d9-4579-b526-991101f29639",
   "metadata": {
    "tags": []
   },
   "outputs": [],
   "source": [
    "edges['txId2']=edges['txId2'].map(mapped_nodes)"
   ]
  },
  {
   "cell_type": "code",
   "execution_count": 19,
   "id": "f7e6e121-339a-410e-a0ab-7a0bcb1b32c6",
   "metadata": {
    "tags": []
   },
   "outputs": [
    {
     "data": {
      "text/plain": [
       "0           4142\n",
       "1         142201\n",
       "2         139223\n",
       "3         140289\n",
       "4         141368\n",
       "           ...  \n",
       "234350    100525\n",
       "234351    112041\n",
       "234352    100419\n",
       "234353     81951\n",
       "234354    101163\n",
       "Name: txId2, Length: 234355, dtype: int64"
      ]
     },
     "execution_count": 19,
     "metadata": {},
     "output_type": "execute_result"
    }
   ],
   "source": [
    "edges['txId2']"
   ]
  },
  {
   "cell_type": "code",
   "execution_count": 20,
   "id": "edf57e31-8053-43b2-8bab-1179dc275708",
   "metadata": {
    "tags": []
   },
   "outputs": [
    {
     "data": {
      "text/plain": [
       "0           4142\n",
       "1         142201\n",
       "2         139223\n",
       "3         140289\n",
       "4         141368\n",
       "           ...  \n",
       "234350    100525\n",
       "234351    112041\n",
       "234352    100419\n",
       "234353     81951\n",
       "234354    101163\n",
       "Name: txId2, Length: 234355, dtype: int32"
      ]
     },
     "execution_count": 20,
     "metadata": {},
     "output_type": "execute_result"
    }
   ],
   "source": [
    "edges=edges.astype(int)\n",
    "edges.txId2"
   ]
  },
  {
   "cell_type": "code",
   "execution_count": 21,
   "id": "25bebc38-4fe2-465e-a71d-09a7a2743189",
   "metadata": {
    "tags": []
   },
   "outputs": [
    {
     "data": {
      "text/plain": [
       "tensor([[138670, 141325, 139232,  ..., 100420,  54833, 101159],\n",
       "        [  4142, 142201, 139223,  ..., 100419,  81951, 101163]])"
      ]
     },
     "execution_count": 21,
     "metadata": {},
     "output_type": "execute_result"
    }
   ],
   "source": [
    "edges_tensor=torch.tensor(np.array(edges.values).T,dtype=torch.long).contiguous()\n",
    "edges_tensor"
   ]
  },
  {
   "cell_type": "code",
   "execution_count": 22,
   "id": "7627e6d5-bc37-40fb-9839-2fecbace603f",
   "metadata": {
    "tags": []
   },
   "outputs": [],
   "source": [
    "weights = torch.tensor([1]* edges_data.shape[1] , dtype=torch.double) "
   ]
  },
  {
   "cell_type": "code",
   "execution_count": 23,
   "id": "53b8ec35-9a66-448e-81dd-14512a9518e4",
   "metadata": {
    "tags": []
   },
   "outputs": [
    {
     "data": {
      "text/plain": [
       "array([2, 1, 1, ..., 2, 2, 2], dtype=int64)"
      ]
     },
     "execution_count": 23,
     "metadata": {},
     "output_type": "execute_result"
    }
   ],
   "source": [
    "labels=class_features_merged_data['class'].values\n",
    "labels"
   ]
  },
  {
   "cell_type": "code",
   "execution_count": 24,
   "id": "af82f0dd-4519-4248-bf38-a001e9fe38d2",
   "metadata": {
    "tags": []
   },
   "outputs": [
    {
     "name": "stdout",
     "output_type": "stream",
     "text": [
      "unique= [2 1 0]\n"
     ]
    },
    {
     "data": {
      "text/plain": [
       "tensor([[-0.1685,  0.2709, -0.0914,  ...,  1.1516,  1.5197,  1.5214],\n",
       "        [-0.1708, -0.1314,  1.0186,  ..., -0.1221, -0.3800, -0.3793],\n",
       "        [ 1.3052, -0.2106, -1.7564,  ..., -0.1310,  0.0070,  0.0178],\n",
       "        ...,\n",
       "        [-0.1727, -0.1588, -1.2014,  ..., -0.2698, -0.1206, -0.1198],\n",
       "        [-0.1727, -0.1588, -1.2014,  ..., -0.2698, -0.1206, -0.1198],\n",
       "        [-0.1433, -0.1588, -1.2014,  ..., -0.0975, -0.1206, -0.1198]],\n",
       "       dtype=torch.float64)"
      ]
     },
     "execution_count": 24,
     "metadata": {},
     "output_type": "execute_result"
    }
   ],
   "source": [
    "# mapping txIds to corresponding indices, to pass node features to the model\n",
    "\n",
    "node_features = class_features_merged_data.drop(['txId'], axis=1).copy()\n",
    "# node_features[0] = node_features[0].map(map_id) # Convert transaction ID to node ID \\\n",
    "print(\"unique=\",node_features[\"class\"].unique())\n",
    "\n",
    "# Retain known vs unknown IDs\n",
    "classified_index = node_features['class'].loc[node_features['class']!=2].index # filter on known labels\n",
    "unclassified_index = node_features['class'].loc[node_features['class']==2].index\n",
    "\n",
    "illicit_idx = node_features['class'].loc[node_features['class']==1].index # filter on illicit labels\n",
    "licit_idx = node_features['class'].loc[node_features['class']==0].index # filter on licit labels\n",
    "\n",
    "# Drop unwanted columns, 0 = transID, 1=time period, class = labels\n",
    "node_features = node_features.drop(columns=[0, 1, 'class'])\n",
    "\n",
    "# Convert to tensor\n",
    "node_features_tensor = torch.tensor(np.array(node_features.values, dtype=np.double), dtype=torch.double)# drop unused columns\n",
    "node_features_tensor"
   ]
  },
  {
   "cell_type": "code",
   "execution_count": 26,
   "id": "0c82d2e9-66be-4183-adce-2347516b0330",
   "metadata": {
    "tags": []
   },
   "outputs": [],
   "source": [
    "train_idx, valid_idx = train_test_split(classified_index.values, test_size=0.15)\n"
   ]
  },
  {
   "cell_type": "markdown",
   "id": "4c714cd1-3d2e-4343-92a1-6041dd45d16e",
   "metadata": {},
   "source": [
    "## Pytorch Geometric Model"
   ]
  },
  {
   "cell_type": "code",
   "execution_count": 27,
   "id": "30c13fd9-fc2b-4aba-8db5-b02104fa0a37",
   "metadata": {
    "tags": []
   },
   "outputs": [],
   "source": [
    "from torch_geometric.data import Data\n",
    "data_train = Data(x=node_features_tensor, edge_index=edges_tensor, edge_attr=weights, \n",
    "                               y=torch.tensor(labels, dtype=torch.double))\n",
    "# Add in the train and valid idx\n",
    "data_train.train_idx = train_idx\n",
    "data_train.valid_idx = valid_idx\n",
    "data_train.test_idx = unclassified_index"
   ]
  },
  {
   "cell_type": "code",
   "execution_count": 28,
   "id": "e95257d5-8238-45ec-852f-519a34c4d6ae",
   "metadata": {
    "tags": []
   },
   "outputs": [],
   "source": [
    "import torch\n",
    "import torch.nn as nn\n",
    "import torch.nn.functional as F\n",
    "from torch_geometric.nn import GATConv\n",
    "\n",
    "class GAT_Model(nn.Module):\n",
    "    def __init__(self, input_dim, hidden_dim, output_dim, config):\n",
    "        super(GAT_Model, self).__init__()\n",
    "        self.config = config\n",
    "        \n",
    "        # GAT convolution layers\n",
    "        self.conv1 = GATConv(in_channels=input_dim, out_channels=hidden_dim, heads=config[\"heads\"])\n",
    "        self.conv2 = GATConv(in_channels=config['heads'] * hidden_dim, out_channels=hidden_dim, heads=config['heads'])\n",
    "        self.conv3 = GATConv(in_channels=config['heads'] * hidden_dim, out_channels=hidden_dim, heads=config['heads'])\n",
    "        \n",
    "        # Linear, dropout, and activation layers\n",
    "        self.aggregation = nn.Sequential(\n",
    "            nn.Linear(in_features=hidden_dim * config['heads'], out_features=hidden_dim),\n",
    "            nn.Dropout(p=config[\"dropout\"]),\n",
    "            nn.Linear(in_features=hidden_dim, out_features=output_dim)\n",
    "        )\n",
    "        \n",
    "    def forward(self, data):\n",
    "        x, edge_index = data.x, data.edge_index\n",
    "        \n",
    "        x = self.conv1(x, edge_index)\n",
    "        x = F.relu(x)\n",
    "        x = F.dropout(x, p=self.config['dropout'], training=self.training)\n",
    "        \n",
    "        x = self.conv2(x, edge_index)\n",
    "        x = F.relu(x)\n",
    "        x = F.dropout(x, p=self.config['dropout'], training=self.training)\n",
    "        \n",
    "        x = self.conv3(x, edge_index)\n",
    "        x = F.relu(x)\n",
    "        \n",
    "        x = self.aggregation(x)\n",
    "        x = torch.sigmoid(x)\n",
    "        \n",
    "        return x\n"
   ]
  },
  {
   "cell_type": "code",
   "execution_count": 29,
   "id": "3c441b16-1cc3-4bda-bee9-7d1d997300cc",
   "metadata": {
    "tags": []
   },
   "outputs": [],
   "source": [
    "class GnnTrainer(object):\n",
    "  \n",
    "  def __init__(self, model):\n",
    "    self.model = model\n",
    "    self.metric_manager = MetricManager(modes=[\"train\", \"val\"])\n",
    "\n",
    "  def train(self, data_train, optimizer, criterion, scheduler, args):\n",
    "  \n",
    "    self.data_train = data_train\n",
    "    for epoch in range(args['epochs']):\n",
    "        self.model.train()\n",
    "        optimizer.zero_grad()\n",
    "        out = self.model(data_train)\n",
    "\n",
    "        out = out.reshape((data_train.x.shape[0]))\n",
    "        loss = criterion(out[data_train.train_idx], data_train.y[data_train.train_idx])\n",
    "        ## Metric calculations\n",
    "        # train data\n",
    "        target_labels = data_train.y.detach().cpu().numpy()[data_train.train_idx]\n",
    "        pred_scores = out.detach().cpu().numpy()[data_train.train_idx]\n",
    "        train_acc, train_f1,train_f1macro, train_aucroc, train_recall, train_precision, train_cm = self.metric_manager.store_metrics(\"train\", pred_scores, target_labels)\n",
    "\n",
    "\n",
    "        ## Training Step\n",
    "        loss.backward()\n",
    "        optimizer.step()\n",
    "\n",
    "        # validation data\n",
    "        self.model.eval()\n",
    "        target_labels = data_train.y.detach().cpu().numpy()[data_train.valid_idx]\n",
    "        pred_scores = out.detach().cpu().numpy()[data_train.valid_idx]\n",
    "        val_acc, val_f1,val_f1macro, val_aucroc, val_recall, val_precision, val_cm = self.metric_manager.store_metrics(\"val\", pred_scores, target_labels)\n",
    "\n",
    "        if epoch%5 == 0:\n",
    "          print(\"epoch: {} - loss: {:.4f} - accuracy train: {:.4f} -accuracy valid: {:.4f}  - val roc: {:.4f}  - val f1micro: {:.4f}\".format(epoch, loss.item(), train_acc, val_acc, val_aucroc,val_f1))\n",
    "\n",
    "  # To predict labels\n",
    "  def predict(self, data=None, unclassified_only=True, threshold=0.5):\n",
    "    # evaluate model:\n",
    "    self.model.eval()\n",
    "    if data is not None:\n",
    "      self.data_train = data\n",
    "\n",
    "    out = self.model(self.data_train)\n",
    "    out = out.reshape((self.data_train.x.shape[0]))\n",
    "\n",
    "    if unclassified_only:\n",
    "      pred_scores = out.detach().cpu().numpy()[self.data_train.test_idx]\n",
    "    else:\n",
    "      pred_scores = out.detach().cpu().numpy()\n",
    "\n",
    "    pred_labels = pred_scores > threshold\n",
    "\n",
    "    return {\"pred_scores\":pred_scores, \"pred_labels\":pred_labels}\n",
    "\n",
    "  # To save metrics\n",
    "  def save_metrics(self, save_name, path=\"./save/\"):\n",
    "    file_to_store = open(path + save_name, \"wb\")\n",
    "    pickle.dump(self.metric_manager, file_to_store)\n",
    "    file_to_store.close()\n",
    "  \n",
    "  # To save model\n",
    "  def save_model(self, save_name, path=\"./save/\"):\n",
    "    torch.save(self.model.state_dict(), path + save_name)"
   ]
  },
  {
   "cell_type": "code",
   "execution_count": 61,
   "id": "ab265dec-a207-4b1e-b1d4-12e79dd538b8",
   "metadata": {
    "tags": []
   },
   "outputs": [],
   "source": [
    "class MetricManager(object):\n",
    "  def __init__(self, modes=[\"train\", \"val\"]):\n",
    "\n",
    "    self.output = {}\n",
    "\n",
    "    for mode in modes:\n",
    "      self.output[mode] = {}\n",
    "      self.output[mode][\"accuracy\"] = []\n",
    "      self.output[mode][\"f1micro\"] = []\n",
    "      self.output[mode][\"f1macro\"] = []\n",
    "      self.output[mode][\"aucroc\"] = []\n",
    "      #new\n",
    "      self.output[mode][\"precision\"] = []\n",
    "      self.output[mode][\"recall\"] = []\n",
    "      self.output[mode][\"cm\"] = []\n",
    "\n",
    "  def store_metrics(self, mode, pred_scores, target_labels, threshold=0.5):\n",
    "\n",
    "    # calculate metrics\n",
    "    pred_labels = pred_scores > threshold\n",
    "    accuracy = accuracy_score(target_labels, pred_labels)\n",
    "    f1micro = f1_score(target_labels, pred_labels,average='micro')\n",
    "    f1macro = f1_score(target_labels, pred_labels,average='macro')\n",
    "    aucroc = roc_auc_score(target_labels, pred_scores)\n",
    "    #new\n",
    "    recall = recall_score(target_labels, pred_labels)\n",
    "    precision = precision_score(target_labels, pred_labels)\n",
    "    cm = confusion_matrix(target_labels, pred_labels)\n",
    "\n",
    "    # Collect results\n",
    "    self.output[mode][\"accuracy\"].append(accuracy)\n",
    "    self.output[mode][\"f1micro\"].append(f1micro)\n",
    "    self.output[mode][\"f1macro\"].append(f1macro)\n",
    "    self.output[mode][\"aucroc\"].append(aucroc)\n",
    "    #new\n",
    "    self.output[mode][\"recall\"].append(recall)\n",
    "    self.output[mode][\"precision\"].append(precision)\n",
    "    self.output[mode][\"cm\"].append(cm)\n",
    "    \n",
    "    return accuracy, f1micro,f1macro, aucroc,recall,precision,cm\n",
    "  \n",
    "  # Get best results\n",
    "  def get_best(self, metric, mode=\"val\"):\n",
    "\n",
    "    # Get best results index\n",
    "    best_results = {}\n",
    "    i = np.array(self.output[mode][metric]).argmax()\n",
    "\n",
    "    # Output\n",
    "    for m in self.output[mode].keys():\n",
    "      best_results[m] = self.output[mode][m][i]\n",
    "    \n",
    "    return best_results"
   ]
  },
  {
   "cell_type": "code",
   "execution_count": 62,
   "id": "d60d023f-da53-423a-b74b-4f52e0972f6c",
   "metadata": {
    "tags": []
   },
   "outputs": [],
   "source": [
    "# Set training arguments, set prebuild=True to use builtin PyG models otherwise False\n",
    "args={\"epochs\":100,\n",
    "      'lr':0.01,\n",
    "      'weight_decay':1e-5,\n",
    "      'prebuild':True,\n",
    "      'heads':2,\n",
    "      'hidden_dim': 128, \n",
    "      'dropout': 0.5\n",
    "      }\n",
    "\n",
    "device = torch.device('cuda' if torch.cuda.is_available() else 'cpu')"
   ]
  },
  {
   "cell_type": "code",
   "execution_count": 64,
   "id": "835ce4f7-2232-4e97-9567-7e759fefc184",
   "metadata": {
    "tags": []
   },
   "outputs": [
    {
     "data": {
      "text/plain": [
       "GAT_Model(\n",
       "  (conv1): GATConv(165, 128, heads=2)\n",
       "  (conv2): GATConv(256, 128, heads=2)\n",
       "  (conv3): GATConv(256, 128, heads=2)\n",
       "  (aggregation): Sequential(\n",
       "    (0): Linear(in_features=256, out_features=128, bias=True)\n",
       "    (1): Dropout(p=0.5, inplace=False)\n",
       "    (2): Linear(in_features=128, out_features=1, bias=True)\n",
       "  )\n",
       ")"
      ]
     },
     "execution_count": 64,
     "metadata": {},
     "output_type": "execute_result"
    }
   ],
   "source": [
    "model = GAT_Model(data_train.num_node_features, args['hidden_dim'], 1, args)\n",
    "model.double().to(device)"
   ]
  },
  {
   "cell_type": "code",
   "execution_count": 65,
   "id": "01c3a644-78fc-4caa-a4a1-05e38f3912dd",
   "metadata": {
    "tags": []
   },
   "outputs": [
    {
     "name": "stdout",
     "output_type": "stream",
     "text": [
      "epoch: 0 - loss: 0.7947 - accuracy train: 0.3378 -accuracy valid: 0.3341  - val roc: 0.4340  - val f1micro: 0.3341\n",
      "epoch: 5 - loss: 0.2951 - accuracy train: 0.9023 -accuracy valid: 0.9029  - val roc: 0.8781  - val f1micro: 0.9029\n"
     ]
    },
    {
     "ename": "KeyboardInterrupt",
     "evalue": "",
     "output_type": "error",
     "traceback": [
      "\u001b[1;31m---------------------------------------------------------------------------\u001b[0m",
      "\u001b[1;31mKeyboardInterrupt\u001b[0m                         Traceback (most recent call last)",
      "Cell \u001b[1;32mIn[65], line 11\u001b[0m\n\u001b[0;32m      9\u001b[0m \u001b[38;5;66;03m# Train\u001b[39;00m\n\u001b[0;32m     10\u001b[0m gnn_trainer_gat \u001b[38;5;241m=\u001b[39m GnnTrainer(model)\n\u001b[1;32m---> 11\u001b[0m gnn_trainer_gat\u001b[38;5;241m.\u001b[39mtrain(data_train, optimizer, criterion, scheduler, args)\n\u001b[0;32m     13\u001b[0m gnn_trainer_gat\u001b[38;5;241m.\u001b[39msave_metrics(\u001b[38;5;124m\"\u001b[39m\u001b[38;5;124mGATprebuilt.results\u001b[39m\u001b[38;5;124m\"\u001b[39m, path\u001b[38;5;241m=\u001b[39mFOLDERNAME \u001b[38;5;241m+\u001b[39m \u001b[38;5;124m\"\u001b[39m\u001b[38;5;124m/save_results/\u001b[39m\u001b[38;5;124m\"\u001b[39m)\n\u001b[0;32m     14\u001b[0m gnn_trainer_gat\u001b[38;5;241m.\u001b[39msave_model(\u001b[38;5;124m\"\u001b[39m\u001b[38;5;124mGATprebuilt.pth\u001b[39m\u001b[38;5;124m\"\u001b[39m, path\u001b[38;5;241m=\u001b[39mFOLDERNAME \u001b[38;5;241m+\u001b[39m \u001b[38;5;124m\"\u001b[39m\u001b[38;5;124m/save_results/\u001b[39m\u001b[38;5;124m\"\u001b[39m)\n",
      "Cell \u001b[1;32mIn[60], line 30\u001b[0m, in \u001b[0;36mGnnTrainer.train\u001b[1;34m(self, data_train, optimizer, criterion, scheduler, args)\u001b[0m\n\u001b[0;32m     28\u001b[0m \u001b[38;5;66;03m# validation data\u001b[39;00m\n\u001b[0;32m     29\u001b[0m \u001b[38;5;28mself\u001b[39m\u001b[38;5;241m.\u001b[39mmodel\u001b[38;5;241m.\u001b[39meval()\n\u001b[1;32m---> 30\u001b[0m target_labels \u001b[38;5;241m=\u001b[39m data_train\u001b[38;5;241m.\u001b[39my\u001b[38;5;241m.\u001b[39mdetach()\u001b[38;5;241m.\u001b[39mcpu()\u001b[38;5;241m.\u001b[39mnumpy()[data_train\u001b[38;5;241m.\u001b[39mvalid_idx]\n\u001b[0;32m     31\u001b[0m pred_scores \u001b[38;5;241m=\u001b[39m out\u001b[38;5;241m.\u001b[39mdetach()\u001b[38;5;241m.\u001b[39mcpu()\u001b[38;5;241m.\u001b[39mnumpy()[data_train\u001b[38;5;241m.\u001b[39mvalid_idx]\n\u001b[0;32m     32\u001b[0m val_acc, val_f1,val_f1macro, val_aucroc, val_recall, val_precision, val_cm \u001b[38;5;241m=\u001b[39m \u001b[38;5;28mself\u001b[39m\u001b[38;5;241m.\u001b[39mmetric_manager\u001b[38;5;241m.\u001b[39mstore_metrics(\u001b[38;5;124m\"\u001b[39m\u001b[38;5;124mval\u001b[39m\u001b[38;5;124m\"\u001b[39m, pred_scores, target_labels)\n",
      "\u001b[1;31mKeyboardInterrupt\u001b[0m: "
     ]
    }
   ],
   "source": [
    "# Push data to GPU\n",
    "data_train = data_train.to(device)\n",
    "\n",
    "# Setup training settings\n",
    "optimizer = torch.optim.Adam(model.parameters(), lr=args['lr'], weight_decay=args['weight_decay'])\n",
    "scheduler = torch.optim.lr_scheduler.ReduceLROnPlateau(optimizer, 'min')\n",
    "criterion = torch.nn.BCELoss()\n",
    "\n",
    "# Train\n",
    "gnn_trainer_gat = GnnTrainer(model)\n",
    "gnn_trainer_gat.train(data_train, optimizer, criterion, scheduler, args)\n",
    "\n",
    "gnn_trainer_gat.save_metrics(\"GATprebuilt.results\", path=FOLDERNAME + \"/save_results/\")\n",
    "gnn_trainer_gat.save_model(\"GATprebuilt.pth\", path=FOLDERNAME + \"/save_results/\")"
   ]
  },
  {
   "cell_type": "code",
   "execution_count": null,
   "id": "5aba3342-8267-4c83-9995-75d23cf81237",
   "metadata": {},
   "outputs": [],
   "source": []
  }
 ],
 "metadata": {
  "kernelspec": {
   "display_name": "Python 3 (ipykernel)",
   "language": "python",
   "name": "python3"
  },
  "language_info": {
   "codemirror_mode": {
    "name": "ipython",
    "version": 3
   },
   "file_extension": ".py",
   "mimetype": "text/x-python",
   "name": "python",
   "nbconvert_exporter": "python",
   "pygments_lexer": "ipython3",
   "version": "3.11.5"
  }
 },
 "nbformat": 4,
 "nbformat_minor": 5
}
