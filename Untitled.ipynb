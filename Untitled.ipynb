{
 "cells": [
  {
   "cell_type": "code",
   "execution_count": 31,
   "id": "9a73ed36-3f26-4804-a3ac-61f409a2fd6f",
   "metadata": {
    "tags": []
   },
   "outputs": [],
   "source": [
    "from ogb.nodeproppred import PygNodePropPredDataset\n",
    "from torch_geometric.data import DataLoader\n",
    "import torch_geometric.transforms as transform"
   ]
  },
  {
   "cell_type": "code",
   "execution_count": 32,
   "id": "7f867a35-095c-4b67-be10-43e0a325e4db",
   "metadata": {
    "tags": []
   },
   "outputs": [],
   "source": [
    "dataset_name=\"ogbn-arxiv\"\n",
    "dataset=PygNodePropPredDataset(name=dataset_name,root='dataset/',transform=transform.ToSparseTensor())"
   ]
  },
  {
   "cell_type": "code",
   "execution_count": 33,
   "id": "73d0b8f3-263f-4134-93a1-26dea51dea6c",
   "metadata": {
    "tags": []
   },
   "outputs": [],
   "source": [
    "import torch\n",
    "split_idx=dataset.get_idx_split()\n",
    "split_idx['train']\n",
    "device='cuda' if torch.cuda.is_available() else 'cpu'"
   ]
  },
  {
   "cell_type": "code",
   "execution_count": 34,
   "id": "44d203a0-888c-47d0-89cc-04e8da194734",
   "metadata": {
    "tags": []
   },
   "outputs": [
    {
     "data": {
      "text/plain": [
       "Data(num_nodes=169343, x=[169343, 128], node_year=[169343, 1], y=[169343, 1], adj_t=[169343, 169343, nnz=1166243])"
      ]
     },
     "execution_count": 34,
     "metadata": {},
     "output_type": "execute_result"
    }
   ],
   "source": [
    "data=dataset[0]\n",
    "data"
   ]
  },
  {
   "cell_type": "code",
   "execution_count": 50,
   "id": "15015080-d472-4646-8fb1-a6c2d993c4df",
   "metadata": {
    "tags": []
   },
   "outputs": [],
   "source": [
    "train_idx=split_idx['train']"
   ]
  },
  {
   "cell_type": "code",
   "execution_count": 65,
   "id": "1be0722f-f5cf-4112-89b7-50faba0c80d7",
   "metadata": {
    "tags": []
   },
   "outputs": [
    {
     "data": {
      "text/plain": [
       "SparseTensor(row=tensor([     0,      0,      0,  ..., 169341, 169342, 169342]),\n",
       "             col=tensor([   411,    640,   1162,  ..., 163274,  27824, 158981]),\n",
       "             size=(169343, 169343), nnz=2315598, density=0.01%)"
      ]
     },
     "execution_count": 65,
     "metadata": {},
     "output_type": "execute_result"
    }
   ],
   "source": [
    "data.adj_t=data.adj_t.to_symmetric()\n",
    "data.adj_t"
   ]
  },
  {
   "cell_type": "code",
   "execution_count": 68,
   "id": "9c4dc524-47cd-4192-b11a-3e93c8221823",
   "metadata": {
    "tags": []
   },
   "outputs": [
    {
     "data": {
      "text/plain": [
       "291"
      ]
     },
     "execution_count": 68,
     "metadata": {},
     "output_type": "execute_result"
    }
   ],
   "source": [
    "data.adj_t[0].to_dense().to_sparse().indices().shape[1]"
   ]
  },
  {
   "cell_type": "code",
   "execution_count": 48,
   "id": "d874681c-baf2-4816-9445-9f46bb550b8b",
   "metadata": {
    "tags": []
   },
   "outputs": [],
   "source": [
    "train_x=data.x[split_idx['train']]"
   ]
  },
  {
   "cell_type": "code",
   "execution_count": 57,
   "id": "e0451b11-b5a3-4374-9ee2-9d64df399135",
   "metadata": {
    "tags": []
   },
   "outputs": [],
   "source": [
    "train_x_idx=[i for i in range(len(train_x))]\n",
    "selected_x=train_idx[train_x_idx]"
   ]
  },
  {
   "cell_type": "code",
   "execution_count": 80,
   "id": "bd35b135-1943-43cc-9648-10bc5983d625",
   "metadata": {
    "tags": []
   },
   "outputs": [
    {
     "data": {
      "text/plain": [
       "tensor([[     0,  49164],\n",
       "        [     0, 126243]])"
      ]
     },
     "execution_count": 80,
     "metadata": {},
     "output_type": "execute_result"
    }
   ],
   "source": [
    "data.adj_t[3].to_dense().to_sparse().indices().permute((1,0))"
   ]
  },
  {
   "cell_type": "code",
   "execution_count": 73,
   "id": "01819047-1056-4502-a794-7ddc4a09be66",
   "metadata": {
    "tags": []
   },
   "outputs": [],
   "source": [
    "num_edges={}\n",
    "for i in selected_x:\n",
    "    num_edges[i.item()]=data.adj_t[i.item()].to_dense().to_sparse().indices().shape[1]\n",
    "    # num_edges[i.item()]="
   ]
  },
  {
   "cell_type": "code",
   "execution_count": 81,
   "id": "87d9b85e-23a4-4f86-bc60-6035c331e1f5",
   "metadata": {
    "tags": []
   },
   "outputs": [],
   "source": [
    "# num_edges"
   ]
  },
  {
   "cell_type": "code",
   "execution_count": 52,
   "id": "5a03e002-a1f2-4797-a250-2394b4eec42e",
   "metadata": {
    "tags": []
   },
   "outputs": [
    {
     "data": {
      "text/plain": [
       "tensor([     0,      1,      2,  ..., 169145, 169148, 169251])"
      ]
     },
     "execution_count": 52,
     "metadata": {},
     "output_type": "execute_result"
    }
   ],
   "source": [
    "train_idx"
   ]
  },
  {
   "cell_type": "code",
   "execution_count": 55,
   "id": "2a1be273-4c79-4db2-b94f-27582a17e75b",
   "metadata": {
    "tags": []
   },
   "outputs": [
    {
     "data": {
      "text/plain": [
       "tensor([[ 4],\n",
       "        [ 5],\n",
       "        [28],\n",
       "        ...,\n",
       "        [28],\n",
       "        [23],\n",
       "        [22]])"
      ]
     },
     "execution_count": 55,
     "metadata": {},
     "output_type": "execute_result"
    }
   ],
   "source": [
    "data.y[train_idx][train_x_idx]"
   ]
  },
  {
   "cell_type": "code",
   "execution_count": 56,
   "id": "14da2645-fe58-4db7-9b93-e7819982f6d8",
   "metadata": {
    "tags": []
   },
   "outputs": [
    {
     "data": {
      "text/plain": [
       "tensor([[ 4],\n",
       "        [ 5],\n",
       "        [28],\n",
       "        ...,\n",
       "        [28],\n",
       "        [23],\n",
       "        [22]])"
      ]
     },
     "execution_count": 56,
     "metadata": {},
     "output_type": "execute_result"
    }
   ],
   "source": [
    "data.y[train_idx]"
   ]
  },
  {
   "cell_type": "code",
   "execution_count": null,
   "id": "430cb349-d808-4a07-aa0e-e8b31b5c1f24",
   "metadata": {},
   "outputs": [],
   "source": []
  }
 ],
 "metadata": {
  "kernelspec": {
   "display_name": "Python 3 (ipykernel)",
   "language": "python",
   "name": "python3"
  },
  "language_info": {
   "codemirror_mode": {
    "name": "ipython",
    "version": 3
   },
   "file_extension": ".py",
   "mimetype": "text/x-python",
   "name": "python",
   "nbconvert_exporter": "python",
   "pygments_lexer": "ipython3",
   "version": "3.11.5"
  }
 },
 "nbformat": 4,
 "nbformat_minor": 5
}
