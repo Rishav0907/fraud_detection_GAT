{
 "cells": [
  {
   "cell_type": "markdown",
   "id": "b529f44c-0e42-482e-9de7-ed97a08a3b4a",
   "metadata": {},
   "source": [
    "# Fraud Detection with GAT"
   ]
  },
  {
   "cell_type": "markdown",
   "id": "f930e289-d9a9-4cb9-8eb3-61e2cd296ccd",
   "metadata": {},
   "source": [
    "## Data Pre-processing"
   ]
  },
  {
   "cell_type": "code",
   "execution_count": 83,
   "id": "f8c78205-e0dd-4144-8793-3fe894a35973",
   "metadata": {
    "tags": []
   },
   "outputs": [],
   "source": [
    "import torch\n",
    "import torch_geometric\n",
    "import torch_scatter\n",
    "import torch_sparse\n",
    "import pandas as pd"
   ]
  },
  {
   "cell_type": "code",
   "execution_count": 84,
   "id": "941ea231-1767-48c8-8dd6-f7d1429329f0",
   "metadata": {
    "tags": []
   },
   "outputs": [],
   "source": [
    "import os    \n",
    "os.environ['KMP_DUPLICATE_LIB_OK'] = 'True'"
   ]
  },
  {
   "cell_type": "code",
   "execution_count": 85,
   "id": "fe96d6ed-6fff-401f-8fb2-4b0500caf0e7",
   "metadata": {
    "tags": []
   },
   "outputs": [],
   "source": [
    "PATH='bitcoin_dataset'"
   ]
  },
  {
   "cell_type": "code",
   "execution_count": 86,
   "id": "0fc5ba7e-2946-4266-80cd-eee7403641a3",
   "metadata": {
    "tags": []
   },
   "outputs": [
    {
     "name": "stdout",
     "output_type": "stream",
     "text": [
      "elliptic_txs_classes.csv\n",
      "elliptic_txs_edgelist.csv\n",
      "elliptic_txs_features.csv\n"
     ]
    }
   ],
   "source": [
    "!ls bitcoin_dataset"
   ]
  },
  {
   "cell_type": "code",
   "execution_count": 87,
   "id": "b228c583-7588-4248-9264-094c2d7769bc",
   "metadata": {
    "tags": []
   },
   "outputs": [],
   "source": [
    "classes_file = PATH + '/elliptic_txs_classes.csv'\n",
    "edge_file    = PATH + '/elliptic_txs_edgelist.csv'\n",
    "feature_file = PATH + '/elliptic_txs_features.csv'"
   ]
  },
  {
   "cell_type": "code",
   "execution_count": 88,
   "id": "0d22153d-755b-48fb-97d7-bb09ddd38d5d",
   "metadata": {
    "tags": []
   },
   "outputs": [
    {
     "data": {
      "text/html": [
       "<div>\n",
       "<style scoped>\n",
       "    .dataframe tbody tr th:only-of-type {\n",
       "        vertical-align: middle;\n",
       "    }\n",
       "\n",
       "    .dataframe tbody tr th {\n",
       "        vertical-align: top;\n",
       "    }\n",
       "\n",
       "    .dataframe thead th {\n",
       "        text-align: right;\n",
       "    }\n",
       "</style>\n",
       "<table border=\"1\" class=\"dataframe\">\n",
       "  <thead>\n",
       "    <tr style=\"text-align: right;\">\n",
       "      <th></th>\n",
       "      <th>txId</th>\n",
       "      <th>class</th>\n",
       "    </tr>\n",
       "  </thead>\n",
       "  <tbody>\n",
       "    <tr>\n",
       "      <th>0</th>\n",
       "      <td>230425980</td>\n",
       "      <td>unknown</td>\n",
       "    </tr>\n",
       "    <tr>\n",
       "      <th>1</th>\n",
       "      <td>5530458</td>\n",
       "      <td>unknown</td>\n",
       "    </tr>\n",
       "    <tr>\n",
       "      <th>2</th>\n",
       "      <td>232022460</td>\n",
       "      <td>unknown</td>\n",
       "    </tr>\n",
       "    <tr>\n",
       "      <th>3</th>\n",
       "      <td>232438397</td>\n",
       "      <td>2</td>\n",
       "    </tr>\n",
       "    <tr>\n",
       "      <th>4</th>\n",
       "      <td>230460314</td>\n",
       "      <td>unknown</td>\n",
       "    </tr>\n",
       "  </tbody>\n",
       "</table>\n",
       "</div>"
      ],
      "text/plain": [
       "        txId    class\n",
       "0  230425980  unknown\n",
       "1    5530458  unknown\n",
       "2  232022460  unknown\n",
       "3  232438397        2\n",
       "4  230460314  unknown"
      ]
     },
     "execution_count": 88,
     "metadata": {},
     "output_type": "execute_result"
    }
   ],
   "source": [
    "data_classes=pd.read_csv(classes_file)\n",
    "data_classes.head(5)"
   ]
  },
  {
   "cell_type": "code",
   "execution_count": 89,
   "id": "e8f4d24a-06e6-46e5-84c4-ce8c8d100ffc",
   "metadata": {
    "tags": []
   },
   "outputs": [
    {
     "data": {
      "text/plain": [
       "array(['unknown', '2', '1'], dtype=object)"
      ]
     },
     "execution_count": 89,
     "metadata": {},
     "output_type": "execute_result"
    }
   ],
   "source": [
    "data_classes['class'].unique()\n",
    "# 1 - licit\n",
    "# 2 - illicit"
   ]
  },
  {
   "cell_type": "code",
   "execution_count": 90,
   "id": "5a4d600a-2096-4455-8ae3-f586904a4b04",
   "metadata": {
    "tags": []
   },
   "outputs": [],
   "source": [
    "# data_classes.head(5000)['class']"
   ]
  },
  {
   "cell_type": "code",
   "execution_count": 91,
   "id": "7e58abbb-fc12-4bb0-aae6-9a59cb1eb946",
   "metadata": {
    "tags": []
   },
   "outputs": [
    {
     "data": {
      "image/png": "[encoded data removed]",
      "text/plain": [
       "<Figure size 640x480 with 1 Axes>"
      ]
     },
     "metadata": {},
     "output_type": "display_data"
    }
   ],
   "source": [
    "from matplotlib import pyplot as plt\n",
    "plt.hist(data_classes['class'])\n",
    "plt.show()"
   ]
  },
  {
   "cell_type": "code",
   "execution_count": 92,
   "id": "d364fe0e-dae1-4a64-b9a3-652443bce787",
   "metadata": {
    "tags": []
   },
   "outputs": [
    {
     "data": {
      "text/plain": [
       "203769"
      ]
     },
     "execution_count": 92,
     "metadata": {},
     "output_type": "execute_result"
    }
   ],
   "source": [
    "num_nodes=len(data_classes)\n",
    "num_nodes"
   ]
  },
  {
   "cell_type": "code",
   "execution_count": 93,
   "id": "4f835270-862c-4b52-963e-0015bae2257c",
   "metadata": {
    "tags": []
   },
   "outputs": [
    {
     "data": {
      "text/html": [
       "<div>\n",
       "<style scoped>\n",
       "    .dataframe tbody tr th:only-of-type {\n",
       "        vertical-align: middle;\n",
       "    }\n",
       "\n",
       "    .dataframe tbody tr th {\n",
       "        vertical-align: top;\n",
       "    }\n",
       "\n",
       "    .dataframe thead th {\n",
       "        text-align: right;\n",
       "    }\n",
       "</style>\n",
       "<table border=\"1\" class=\"dataframe\">\n",
       "  <thead>\n",
       "    <tr style=\"text-align: right;\">\n",
       "      <th></th>\n",
       "      <th>txId</th>\n",
       "      <th>class</th>\n",
       "    </tr>\n",
       "  </thead>\n",
       "  <tbody>\n",
       "    <tr>\n",
       "      <th>0</th>\n",
       "      <td>230425980</td>\n",
       "      <td>2</td>\n",
       "    </tr>\n",
       "    <tr>\n",
       "      <th>1</th>\n",
       "      <td>5530458</td>\n",
       "      <td>2</td>\n",
       "    </tr>\n",
       "    <tr>\n",
       "      <th>2</th>\n",
       "      <td>232022460</td>\n",
       "      <td>2</td>\n",
       "    </tr>\n",
       "    <tr>\n",
       "      <th>3</th>\n",
       "      <td>232438397</td>\n",
       "      <td>0</td>\n",
       "    </tr>\n",
       "    <tr>\n",
       "      <th>4</th>\n",
       "      <td>230460314</td>\n",
       "      <td>2</td>\n",
       "    </tr>\n",
       "  </tbody>\n",
       "</table>\n",
       "</div>"
      ],
      "text/plain": [
       "        txId  class\n",
       "0  230425980      2\n",
       "1    5530458      2\n",
       "2  232022460      2\n",
       "3  232438397      0\n",
       "4  230460314      2"
      ]
     },
     "execution_count": 93,
     "metadata": {},
     "output_type": "execute_result"
    }
   ],
   "source": [
    "data_classes['class']=data_classes['class'].map({'unknown':2,'1':1,'2':0})\n",
    "data_classes.head(5)"
   ]
  },
  {
   "cell_type": "code",
   "execution_count": 94,
   "id": "e9f4c691-341a-4991-ba09-ba55e60b37a8",
   "metadata": {
    "tags": []
   },
   "outputs": [
    {
     "data": {
      "text/html": [
       "<div>\n",
       "<style scoped>\n",
       "    .dataframe tbody tr th:only-of-type {\n",
       "        vertical-align: middle;\n",
       "    }\n",
       "\n",
       "    .dataframe tbody tr th {\n",
       "        vertical-align: top;\n",
       "    }\n",
       "\n",
       "    .dataframe thead th {\n",
       "        text-align: right;\n",
       "    }\n",
       "</style>\n",
       "<table border=\"1\" class=\"dataframe\">\n",
       "  <thead>\n",
       "    <tr style=\"text-align: right;\">\n",
       "      <th></th>\n",
       "      <th>txId1</th>\n",
       "      <th>txId2</th>\n",
       "    </tr>\n",
       "  </thead>\n",
       "  <tbody>\n",
       "    <tr>\n",
       "      <th>0</th>\n",
       "      <td>230425980</td>\n",
       "      <td>5530458</td>\n",
       "    </tr>\n",
       "    <tr>\n",
       "      <th>1</th>\n",
       "      <td>232022460</td>\n",
       "      <td>232438397</td>\n",
       "    </tr>\n",
       "    <tr>\n",
       "      <th>2</th>\n",
       "      <td>230460314</td>\n",
       "      <td>230459870</td>\n",
       "    </tr>\n",
       "    <tr>\n",
       "      <th>3</th>\n",
       "      <td>230333930</td>\n",
       "      <td>230595899</td>\n",
       "    </tr>\n",
       "    <tr>\n",
       "      <th>4</th>\n",
       "      <td>232013274</td>\n",
       "      <td>232029206</td>\n",
       "    </tr>\n",
       "  </tbody>\n",
       "</table>\n",
       "</div>"
      ],
      "text/plain": [
       "       txId1      txId2\n",
       "0  230425980    5530458\n",
       "1  232022460  232438397\n",
       "2  230460314  230459870\n",
       "3  230333930  230595899\n",
       "4  232013274  232029206"
      ]
     },
     "execution_count": 94,
     "metadata": {},
     "output_type": "execute_result"
    }
   ],
   "source": [
    "data_edges=pd.read_csv(edge_file)\n",
    "data_edges.head(5)\n",
    "# edges between two nodes"
   ]
  },
  {
   "cell_type": "code",
   "execution_count": 95,
   "id": "849a61a3-a558-49ec-b5e7-43e0352bb427",
   "metadata": {
    "tags": []
   },
   "outputs": [
    {
     "data": {
      "text/html": [
       "<div>\n",
       "<style scoped>\n",
       "    .dataframe tbody tr th:only-of-type {\n",
       "        vertical-align: middle;\n",
       "    }\n",
       "\n",
       "    .dataframe tbody tr th {\n",
       "        vertical-align: top;\n",
       "    }\n",
       "\n",
       "    .dataframe thead th {\n",
       "        text-align: right;\n",
       "    }\n",
       "</style>\n",
       "<table border=\"1\" class=\"dataframe\">\n",
       "  <thead>\n",
       "    <tr style=\"text-align: right;\">\n",
       "      <th></th>\n",
       "      <th>0</th>\n",
       "      <th>1</th>\n",
       "      <th>2</th>\n",
       "      <th>3</th>\n",
       "      <th>4</th>\n",
       "      <th>5</th>\n",
       "      <th>6</th>\n",
       "      <th>7</th>\n",
       "      <th>8</th>\n",
       "      <th>9</th>\n",
       "      <th>...</th>\n",
       "      <th>157</th>\n",
       "      <th>158</th>\n",
       "      <th>159</th>\n",
       "      <th>160</th>\n",
       "      <th>161</th>\n",
       "      <th>162</th>\n",
       "      <th>163</th>\n",
       "      <th>164</th>\n",
       "      <th>165</th>\n",
       "      <th>166</th>\n",
       "    </tr>\n",
       "  </thead>\n",
       "  <tbody>\n",
       "    <tr>\n",
       "      <th>0</th>\n",
       "      <td>230425980</td>\n",
       "      <td>1</td>\n",
       "      <td>-0.171469</td>\n",
       "      <td>-0.184668</td>\n",
       "      <td>-1.201369</td>\n",
       "      <td>-0.121970</td>\n",
       "      <td>-0.043875</td>\n",
       "      <td>-0.113002</td>\n",
       "      <td>-0.061584</td>\n",
       "      <td>-0.162097</td>\n",
       "      <td>...</td>\n",
       "      <td>-0.562153</td>\n",
       "      <td>-0.600999</td>\n",
       "      <td>1.461330</td>\n",
       "      <td>1.461369</td>\n",
       "      <td>0.018279</td>\n",
       "      <td>-0.087490</td>\n",
       "      <td>-0.131155</td>\n",
       "      <td>-0.097524</td>\n",
       "      <td>-0.120613</td>\n",
       "      <td>-0.119792</td>\n",
       "    </tr>\n",
       "    <tr>\n",
       "      <th>1</th>\n",
       "      <td>5530458</td>\n",
       "      <td>1</td>\n",
       "      <td>-0.171484</td>\n",
       "      <td>-0.184668</td>\n",
       "      <td>-1.201369</td>\n",
       "      <td>-0.121970</td>\n",
       "      <td>-0.043875</td>\n",
       "      <td>-0.113002</td>\n",
       "      <td>-0.061584</td>\n",
       "      <td>-0.162112</td>\n",
       "      <td>...</td>\n",
       "      <td>0.947382</td>\n",
       "      <td>0.673103</td>\n",
       "      <td>-0.979074</td>\n",
       "      <td>-0.978556</td>\n",
       "      <td>0.018279</td>\n",
       "      <td>-0.087490</td>\n",
       "      <td>-0.131155</td>\n",
       "      <td>-0.097524</td>\n",
       "      <td>-0.120613</td>\n",
       "      <td>-0.119792</td>\n",
       "    </tr>\n",
       "    <tr>\n",
       "      <th>2</th>\n",
       "      <td>232022460</td>\n",
       "      <td>1</td>\n",
       "      <td>-0.172107</td>\n",
       "      <td>-0.184668</td>\n",
       "      <td>-1.201369</td>\n",
       "      <td>-0.121970</td>\n",
       "      <td>-0.043875</td>\n",
       "      <td>-0.113002</td>\n",
       "      <td>-0.061584</td>\n",
       "      <td>-0.162749</td>\n",
       "      <td>...</td>\n",
       "      <td>0.670883</td>\n",
       "      <td>0.439728</td>\n",
       "      <td>-0.979074</td>\n",
       "      <td>-0.978556</td>\n",
       "      <td>-0.098889</td>\n",
       "      <td>-0.106715</td>\n",
       "      <td>-0.131155</td>\n",
       "      <td>-0.183671</td>\n",
       "      <td>-0.120613</td>\n",
       "      <td>-0.119792</td>\n",
       "    </tr>\n",
       "    <tr>\n",
       "      <th>3</th>\n",
       "      <td>232438397</td>\n",
       "      <td>1</td>\n",
       "      <td>0.163054</td>\n",
       "      <td>1.963790</td>\n",
       "      <td>-0.646376</td>\n",
       "      <td>12.409294</td>\n",
       "      <td>-0.063725</td>\n",
       "      <td>9.782742</td>\n",
       "      <td>12.414558</td>\n",
       "      <td>-0.163645</td>\n",
       "      <td>...</td>\n",
       "      <td>-0.577099</td>\n",
       "      <td>-0.613614</td>\n",
       "      <td>0.241128</td>\n",
       "      <td>0.241406</td>\n",
       "      <td>1.072793</td>\n",
       "      <td>0.085530</td>\n",
       "      <td>-0.131155</td>\n",
       "      <td>0.677799</td>\n",
       "      <td>-0.120613</td>\n",
       "      <td>-0.119792</td>\n",
       "    </tr>\n",
       "    <tr>\n",
       "      <th>4</th>\n",
       "      <td>230460314</td>\n",
       "      <td>1</td>\n",
       "      <td>1.011523</td>\n",
       "      <td>-0.081127</td>\n",
       "      <td>-1.201369</td>\n",
       "      <td>1.153668</td>\n",
       "      <td>0.333276</td>\n",
       "      <td>1.312656</td>\n",
       "      <td>-0.061584</td>\n",
       "      <td>-0.163523</td>\n",
       "      <td>...</td>\n",
       "      <td>-0.511871</td>\n",
       "      <td>-0.400422</td>\n",
       "      <td>0.517257</td>\n",
       "      <td>0.579382</td>\n",
       "      <td>0.018279</td>\n",
       "      <td>0.277775</td>\n",
       "      <td>0.326394</td>\n",
       "      <td>1.293750</td>\n",
       "      <td>0.178136</td>\n",
       "      <td>0.179117</td>\n",
       "    </tr>\n",
       "  </tbody>\n",
       "</table>\n",
       "<p>5 rows × 167 columns</p>\n",
       "</div>"
      ],
      "text/plain": [
       "         0    1         2         3         4          5         6    \\\n",
       "0  230425980    1 -0.171469 -0.184668 -1.201369  -0.121970 -0.043875   \n",
       "1    5530458    1 -0.171484 -0.184668 -1.201369  -0.121970 -0.043875   \n",
       "2  232022460    1 -0.172107 -0.184668 -1.201369  -0.121970 -0.043875   \n",
       "3  232438397    1  0.163054  1.963790 -0.646376  12.409294 -0.063725   \n",
       "4  230460314    1  1.011523 -0.081127 -1.201369   1.153668  0.333276   \n",
       "\n",
       "        7          8         9    ...       157       158       159       160  \\\n",
       "0 -0.113002  -0.061584 -0.162097  ... -0.562153 -0.600999  1.461330  1.461369   \n",
       "1 -0.113002  -0.061584 -0.162112  ...  0.947382  0.673103 -0.979074 -0.978556   \n",
       "2 -0.113002  -0.061584 -0.162749  ...  0.670883  0.439728 -0.979074 -0.978556   \n",
       "3  9.782742  12.414558 -0.163645  ... -0.577099 -0.613614  0.241128  0.241406   \n",
       "4  1.312656  -0.061584 -0.163523  ... -0.511871 -0.400422  0.517257  0.579382   \n",
       "\n",
       "        161       162       163       164       165       166  \n",
       "0  0.018279 -0.087490 -0.131155 -0.097524 -0.120613 -0.119792  \n",
       "1  0.018279 -0.087490 -0.131155 -0.097524 -0.120613 -0.119792  \n",
       "2 -0.098889 -0.106715 -0.131155 -0.183671 -0.120613 -0.119792  \n",
       "3  1.072793  0.085530 -0.131155  0.677799 -0.120613 -0.119792  \n",
       "4  0.018279  0.277775  0.326394  1.293750  0.178136  0.179117  \n",
       "\n",
       "[5 rows x 167 columns]"
      ]
     },
     "execution_count": 95,
     "metadata": {},
     "output_type": "execute_result"
    }
   ],
   "source": [
    "data_features=pd.read_csv(feature_file,header=None)\n",
    "data_features.head(5)\n",
    "# 166-dim feature for each node"
   ]
  },
  {
   "cell_type": "code",
   "execution_count": 96,
   "id": "1a06ff1d-6b94-4fd8-99f1-682813533649",
   "metadata": {
    "tags": []
   },
   "outputs": [
    {
     "data": {
      "text/html": [
       "<div>\n",
       "<style scoped>\n",
       "    .dataframe tbody tr th:only-of-type {\n",
       "        vertical-align: middle;\n",
       "    }\n",
       "\n",
       "    .dataframe tbody tr th {\n",
       "        vertical-align: top;\n",
       "    }\n",
       "\n",
       "    .dataframe thead th {\n",
       "        text-align: right;\n",
       "    }\n",
       "</style>\n",
       "<table border=\"1\" class=\"dataframe\">\n",
       "  <thead>\n",
       "    <tr style=\"text-align: right;\">\n",
       "      <th></th>\n",
       "      <th>0</th>\n",
       "      <th>1</th>\n",
       "      <th>2</th>\n",
       "      <th>3</th>\n",
       "      <th>4</th>\n",
       "      <th>5</th>\n",
       "      <th>6</th>\n",
       "      <th>7</th>\n",
       "      <th>8</th>\n",
       "      <th>9</th>\n",
       "      <th>...</th>\n",
       "      <th>159</th>\n",
       "      <th>160</th>\n",
       "      <th>161</th>\n",
       "      <th>162</th>\n",
       "      <th>163</th>\n",
       "      <th>164</th>\n",
       "      <th>165</th>\n",
       "      <th>166</th>\n",
       "      <th>txId</th>\n",
       "      <th>class</th>\n",
       "    </tr>\n",
       "  </thead>\n",
       "  <tbody>\n",
       "    <tr>\n",
       "      <th>0</th>\n",
       "      <td>1076</td>\n",
       "      <td>48</td>\n",
       "      <td>-0.168500</td>\n",
       "      <td>0.270909</td>\n",
       "      <td>-0.091383</td>\n",
       "      <td>-0.046932</td>\n",
       "      <td>-0.043875</td>\n",
       "      <td>-0.029140</td>\n",
       "      <td>-0.061584</td>\n",
       "      <td>-0.163591</td>\n",
       "      <td>...</td>\n",
       "      <td>1.461330</td>\n",
       "      <td>1.461369</td>\n",
       "      <td>0.018279</td>\n",
       "      <td>0.470019</td>\n",
       "      <td>1.216796</td>\n",
       "      <td>1.151607</td>\n",
       "      <td>1.519700</td>\n",
       "      <td>1.521399</td>\n",
       "      <td>1076</td>\n",
       "      <td>2</td>\n",
       "    </tr>\n",
       "    <tr>\n",
       "      <th>1</th>\n",
       "      <td>2534</td>\n",
       "      <td>6</td>\n",
       "      <td>-0.170834</td>\n",
       "      <td>-0.131425</td>\n",
       "      <td>1.018602</td>\n",
       "      <td>0.028105</td>\n",
       "      <td>0.055376</td>\n",
       "      <td>0.054722</td>\n",
       "      <td>-0.061584</td>\n",
       "      <td>-0.163572</td>\n",
       "      <td>...</td>\n",
       "      <td>0.955101</td>\n",
       "      <td>0.459257</td>\n",
       "      <td>-0.098889</td>\n",
       "      <td>-0.087490</td>\n",
       "      <td>-0.099080</td>\n",
       "      <td>-0.122137</td>\n",
       "      <td>-0.379970</td>\n",
       "      <td>-0.379288</td>\n",
       "      <td>2534</td>\n",
       "      <td>0</td>\n",
       "    </tr>\n",
       "    <tr>\n",
       "      <th>2</th>\n",
       "      <td>3181</td>\n",
       "      <td>34</td>\n",
       "      <td>1.305212</td>\n",
       "      <td>-0.210553</td>\n",
       "      <td>-1.756361</td>\n",
       "      <td>-0.121970</td>\n",
       "      <td>97.300650</td>\n",
       "      <td>-0.113002</td>\n",
       "      <td>-0.061584</td>\n",
       "      <td>1.348765</td>\n",
       "      <td>...</td>\n",
       "      <td>0.059948</td>\n",
       "      <td>0.113967</td>\n",
       "      <td>-0.098889</td>\n",
       "      <td>1.969527</td>\n",
       "      <td>0.037532</td>\n",
       "      <td>-0.131010</td>\n",
       "      <td>0.006994</td>\n",
       "      <td>0.017772</td>\n",
       "      <td>3181</td>\n",
       "      <td>0</td>\n",
       "    </tr>\n",
       "    <tr>\n",
       "      <th>3</th>\n",
       "      <td>3321</td>\n",
       "      <td>1</td>\n",
       "      <td>-0.169615</td>\n",
       "      <td>-0.184668</td>\n",
       "      <td>-1.201369</td>\n",
       "      <td>-0.121970</td>\n",
       "      <td>-0.043875</td>\n",
       "      <td>-0.113002</td>\n",
       "      <td>-0.061584</td>\n",
       "      <td>-0.160199</td>\n",
       "      <td>...</td>\n",
       "      <td>0.241128</td>\n",
       "      <td>0.241406</td>\n",
       "      <td>-0.098889</td>\n",
       "      <td>-0.087490</td>\n",
       "      <td>-0.084674</td>\n",
       "      <td>-0.140597</td>\n",
       "      <td>1.519700</td>\n",
       "      <td>1.521399</td>\n",
       "      <td>3321</td>\n",
       "      <td>2</td>\n",
       "    </tr>\n",
       "    <tr>\n",
       "      <th>4</th>\n",
       "      <td>3889</td>\n",
       "      <td>48</td>\n",
       "      <td>-0.086232</td>\n",
       "      <td>-0.101835</td>\n",
       "      <td>-0.646376</td>\n",
       "      <td>-0.121970</td>\n",
       "      <td>17.046997</td>\n",
       "      <td>-0.113002</td>\n",
       "      <td>-0.061584</td>\n",
       "      <td>-0.074885</td>\n",
       "      <td>...</td>\n",
       "      <td>0.082065</td>\n",
       "      <td>0.114773</td>\n",
       "      <td>-0.098889</td>\n",
       "      <td>8.948005</td>\n",
       "      <td>1.024948</td>\n",
       "      <td>-0.009570</td>\n",
       "      <td>-0.080708</td>\n",
       "      <td>-0.123601</td>\n",
       "      <td>3889</td>\n",
       "      <td>2</td>\n",
       "    </tr>\n",
       "  </tbody>\n",
       "</table>\n",
       "<p>5 rows × 169 columns</p>\n",
       "</div>"
      ],
      "text/plain": [
       "      0   1         2         3         4         5          6         7  \\\n",
       "0  1076  48 -0.168500  0.270909 -0.091383 -0.046932  -0.043875 -0.029140   \n",
       "1  2534   6 -0.170834 -0.131425  1.018602  0.028105   0.055376  0.054722   \n",
       "2  3181  34  1.305212 -0.210553 -1.756361 -0.121970  97.300650 -0.113002   \n",
       "3  3321   1 -0.169615 -0.184668 -1.201369 -0.121970  -0.043875 -0.113002   \n",
       "4  3889  48 -0.086232 -0.101835 -0.646376 -0.121970  17.046997 -0.113002   \n",
       "\n",
       "          8         9  ...       159       160       161       162       163  \\\n",
       "0 -0.061584 -0.163591  ...  1.461330  1.461369  0.018279  0.470019  1.216796   \n",
       "1 -0.061584 -0.163572  ...  0.955101  0.459257 -0.098889 -0.087490 -0.099080   \n",
       "2 -0.061584  1.348765  ...  0.059948  0.113967 -0.098889  1.969527  0.037532   \n",
       "3 -0.061584 -0.160199  ...  0.241128  0.241406 -0.098889 -0.087490 -0.084674   \n",
       "4 -0.061584 -0.074885  ...  0.082065  0.114773 -0.098889  8.948005  1.024948   \n",
       "\n",
       "        164       165       166  txId  class  \n",
       "0  1.151607  1.519700  1.521399  1076      2  \n",
       "1 -0.122137 -0.379970 -0.379288  2534      0  \n",
       "2 -0.131010  0.006994  0.017772  3181      0  \n",
       "3 -0.140597  1.519700  1.521399  3321      2  \n",
       "4 -0.009570 -0.080708 -0.123601  3889      2  \n",
       "\n",
       "[5 rows x 169 columns]"
      ]
     },
     "execution_count": 96,
     "metadata": {},
     "output_type": "execute_result"
    }
   ],
   "source": [
    "# merging class data and features data\n",
    "data_classes_and_features=data_features.merge(data_classes,how='left',right_on=\"txId\",left_on=0)\n",
    "data_classes_and_features = data_classes_and_features.sort_values(0).reset_index(drop=True)\n",
    "data_classes_and_features.head()"
   ]
  },
  {
   "cell_type": "code",
   "execution_count": 97,
   "id": "047f0a73-4e5d-440a-98ba-4f9304ce7b96",
   "metadata": {
    "tags": []
   },
   "outputs": [],
   "source": [
    "# The Node IDs or the transaction IDs are too large , so not feasible. We will map them to indices\n",
    "# data_classes_and_features.head(200)"
   ]
  },
  {
   "cell_type": "code",
   "execution_count": 98,
   "id": "6dcd1d60-dbee-4e88-a46e-1442adb7a3cf",
   "metadata": {
    "tags": []
   },
   "outputs": [
    {
     "data": {
      "text/plain": [
       "array([     1076,      2534,      3181, ..., 403234715, 403235564,\n",
       "       403244581], dtype=int64)"
      ]
     },
     "execution_count": 98,
     "metadata": {},
     "output_type": "execute_result"
    }
   ],
   "source": [
    "data_classes_and_features[0].values"
   ]
  },
  {
   "cell_type": "code",
   "execution_count": 99,
   "id": "3735ba16-78dc-4b6c-8a50-d87a8653f3b1",
   "metadata": {
    "tags": []
   },
   "outputs": [],
   "source": [
    "nodes=data_classes_and_features[0].values\n",
    "mapped_node_IDs={}\n",
    "for i,j in enumerate(nodes):\n",
    "    mapped_node_IDs[j]=i"
   ]
  },
  {
   "cell_type": "code",
   "execution_count": 100,
   "id": "b82ed7f5-0453-4dca-bc9e-ec7e906b1534",
   "metadata": {
    "collapsed": true,
    "jupyter": {
     "outputs_hidden": true
    },
    "tags": []
   },
   "outputs": [
    {
     "data": {
      "text/plain": [
       "{1076: 0,\n",
       " 2534: 1,\n",
       " 3181: 2,\n",
       " 3321: 3,\n",
       " 3889: 4,\n",
       " 5473: 5,\n",
       " 6415: 6,\n",
       " 6418: 7,\n",
       " 7952: 8,\n",
       " 7954: 9,\n",
       " 9334: 10,\n",
       " 9351: 11,\n",
       " 9363: 12,\n",
       " 9372: 13,\n",
       " 9379: 14,\n",
       " 9381: 15,\n",
       " 9460: 16,\n",
       " 9466: 17,\n",
       " 9551: 18,\n",
       " 9562: 19,\n",
       " 10247: 20,\n",
       " 10254: 21,\n",
       " 10280: 22,\n",
       " 10452: 23,\n",
       " 11108: 24,\n",
       " 11597: 25,\n",
       " 11638: 26,\n",
       " 12051: 27,\n",
       " 12068: 28,\n",
       " 13646: 29,\n",
       " 16134: 30,\n",
       " 16421: 31,\n",
       " 17122: 32,\n",
       " 18589: 33,\n",
       " 18810: 34,\n",
       " 28907: 35,\n",
       " 29253: 36,\n",
       " 29272: 37,\n",
       " 29339: 38,\n",
       " 29777: 39,\n",
       " 29786: 40,\n",
       " 32496: 41,\n",
       " 33775: 42,\n",
       " 39370: 43,\n",
       " 39382: 44,\n",
       " 39994: 45,\n",
       " 44658: 46,\n",
       " 44664: 47,\n",
       " 44703: 48,\n",
       " 45096: 49,\n",
       " 45294: 50,\n",
       " 45766: 51,\n",
       " 47299: 52,\n",
       " 47414: 53,\n",
       " 51816: 54,\n",
       " 52635: 55,\n",
       " 58945: 56,\n",
       " 60857: 57,\n",
       " 62455: 58,\n",
       " 65253: 59,\n",
       " 65879: 60,\n",
       " 68869: 61,\n",
       " 70875: 62,\n",
       " 71198: 63,\n",
       " 71201: 64,\n",
       " 72958: 65,\n",
       " 73958: 66,\n",
       " 74044: 67,\n",
       " 75160: 68,\n",
       " 75163: 69,\n",
       " 75165: 70,\n",
       " 84810: 71,\n",
       " 87778: 72,\n",
       " 89273: 73,\n",
       " 96910: 74,\n",
       " 102570: 75,\n",
       " 104216: 76,\n",
       " 113780: 77,\n",
       " 121630: 78,\n",
       " 121959: 79,\n",
       " 122326: 80,\n",
       " 127339: 81,\n",
       " 127342: 82,\n",
       " 130932: 83,\n",
       " 132791: 84,\n",
       " 134715: 85,\n",
       " 134746: 86,\n",
       " 134767: 87,\n",
       " 134785: 88,\n",
       " 134789: 89,\n",
       " 134922: 90,\n",
       " 135329: 91,\n",
       " 136929: 92,\n",
       " 138146: 93,\n",
       " 141445: 94,\n",
       " 143435: 95,\n",
       " 143705: 96,\n",
       " 146673: 97,\n",
       " 147421: 98,\n",
       " 147434: 99,\n",
       " 147449: 100,\n",
       " 148681: 101,\n",
       " 163032: 102,\n",
       " 167011: 103,\n",
       " 169286: 104,\n",
       " 172562: 105,\n",
       " 174370: 106,\n",
       " 180735: 107,\n",
       " 181624: 108,\n",
       " 183452: 109,\n",
       " 183691: 110,\n",
       " 183721: 111,\n",
       " 185814: 112,\n",
       " 187079: 113,\n",
       " 188788: 114,\n",
       " 189229: 115,\n",
       " 192081: 116,\n",
       " 192947: 117,\n",
       " 193173: 118,\n",
       " 195142: 119,\n",
       " 196443: 120,\n",
       " 199082: 121,\n",
       " 199785: 122,\n",
       " 199792: 123,\n",
       " 199819: 124,\n",
       " 200412: 125,\n",
       " 201844: 126,\n",
       " 209598: 127,\n",
       " 213202: 128,\n",
       " 213838: 129,\n",
       " 214342: 130,\n",
       " 214899: 131,\n",
       " 215305: 132,\n",
       " 223263: 133,\n",
       " 223265: 134,\n",
       " 227099: 135,\n",
       " 235586: 136,\n",
       " 237489: 137,\n",
       " 245992: 138,\n",
       " 248254: 139,\n",
       " 264059: 140,\n",
       " 267167: 141,\n",
       " 267260: 142,\n",
       " 267262: 143,\n",
       " 268186: 144,\n",
       " 269873: 145,\n",
       " 272834: 146,\n",
       " 278134: 147,\n",
       " 281804: 148,\n",
       " 286634: 149,\n",
       " 288025: 150,\n",
       " 293323: 151,\n",
       " 293346: 152,\n",
       " 295623: 153,\n",
       " 311767: 154,\n",
       " 312589: 155,\n",
       " 312601: 156,\n",
       " 314019: 157,\n",
       " 314705: 158,\n",
       " 316862: 159,\n",
       " 324073: 160,\n",
       " 326843: 161,\n",
       " 327038: 162,\n",
       " 328838: 163,\n",
       " 331239: 164,\n",
       " 331848: 165,\n",
       " 332925: 166,\n",
       " 332928: 167,\n",
       " 333180: 168,\n",
       " 333469: 169,\n",
       " 344903: 170,\n",
       " 346493: 171,\n",
       " 346890: 172,\n",
       " 350864: 173,\n",
       " 362808: 174,\n",
       " 376996: 175,\n",
       " 377642: 176,\n",
       " 385421: 177,\n",
       " 391137: 178,\n",
       " 398967: 179,\n",
       " 399523: 180,\n",
       " 401547: 181,\n",
       " 407867: 182,\n",
       " 411947: 183,\n",
       " 416248: 184,\n",
       " 423817: 185,\n",
       " 424786: 186,\n",
       " 426765: 187,\n",
       " 427963: 188,\n",
       " 432545: 189,\n",
       " 433530: 190,\n",
       " 435833: 191,\n",
       " 436344: 192,\n",
       " 436346: 193,\n",
       " 439017: 194,\n",
       " 439018: 195,\n",
       " 447793: 196,\n",
       " 450096: 197,\n",
       " 459148: 198,\n",
       " 461167: 199,\n",
       " 461289: 200,\n",
       " 464474: 201,\n",
       " 466352: 202,\n",
       " 475947: 203,\n",
       " 488266: 204,\n",
       " 489881: 205,\n",
       " 490390: 206,\n",
       " 490393: 207,\n",
       " 490400: 208,\n",
       " 490419: 209,\n",
       " 490439: 210,\n",
       " 490440: 211,\n",
       " 490442: 212,\n",
       " 494109: 213,\n",
       " 494949: 214,\n",
       " 504131: 215,\n",
       " 505691: 216,\n",
       " 505722: 217,\n",
       " 515381: 218,\n",
       " 515758: 219,\n",
       " 515761: 220,\n",
       " 516531: 221,\n",
       " 516532: 222,\n",
       " 517104: 223,\n",
       " 520060: 224,\n",
       " 533162: 225,\n",
       " 538213: 226,\n",
       " 549558: 227,\n",
       " 549581: 228,\n",
       " 557601: 229,\n",
       " 559925: 230,\n",
       " 560216: 231,\n",
       " 563635: 232,\n",
       " 565334: 233,\n",
       " 569900: 234,\n",
       " 586751: 235,\n",
       " 592162: 236,\n",
       " 592294: 237,\n",
       " 593425: 238,\n",
       " 593446: 239,\n",
       " 597793: 240,\n",
       " 607145: 241,\n",
       " 611515: 242,\n",
       " 615165: 243,\n",
       " 615274: 244,\n",
       " 618291: 245,\n",
       " 628769: 246,\n",
       " 630850: 247,\n",
       " 632831: 248,\n",
       " 632832: 249,\n",
       " 632833: 250,\n",
       " 632834: 251,\n",
       " 632836: 252,\n",
       " 635415: 253,\n",
       " 642998: 254,\n",
       " 643539: 255,\n",
       " 646566: 256,\n",
       " 648193: 257,\n",
       " 658042: 258,\n",
       " 658316: 259,\n",
       " 658523: 260,\n",
       " 659872: 261,\n",
       " 659917: 262,\n",
       " 667148: 263,\n",
       " 669678: 264,\n",
       " 684075: 265,\n",
       " 686329: 266,\n",
       " 691989: 267,\n",
       " 692142: 268,\n",
       " 692149: 269,\n",
       " 694829: 270,\n",
       " 705092: 271,\n",
       " 705705: 272,\n",
       " 707060: 273,\n",
       " 707637: 274,\n",
       " 708454: 275,\n",
       " 709696: 276,\n",
       " 710390: 277,\n",
       " 711641: 278,\n",
       " 712484: 279,\n",
       " 714973: 280,\n",
       " 719345: 281,\n",
       " 719349: 282,\n",
       " 721686: 283,\n",
       " 723464: 284,\n",
       " 723904: 285,\n",
       " 724443: 286,\n",
       " 724580: 287,\n",
       " 725171: 288,\n",
       " 725176: 289,\n",
       " 725203: 290,\n",
       " 729302: 291,\n",
       " 730020: 292,\n",
       " 732994: 293,\n",
       " 734964: 294,\n",
       " 735881: 295,\n",
       " 736448: 296,\n",
       " 736905: 297,\n",
       " 736907: 298,\n",
       " 738120: 299,\n",
       " 743153: 300,\n",
       " 743499: 301,\n",
       " 743689: 302,\n",
       " 744045: 303,\n",
       " 752973: 304,\n",
       " 755602: 305,\n",
       " 755990: 306,\n",
       " 757051: 307,\n",
       " 757859: 308,\n",
       " 757875: 309,\n",
       " 758942: 310,\n",
       " 759036: 311,\n",
       " 759728: 312,\n",
       " 760733: 313,\n",
       " 766177: 314,\n",
       " 770141: 315,\n",
       " 770539: 316,\n",
       " 772431: 317,\n",
       " 773613: 318,\n",
       " 774002: 319,\n",
       " 776511: 320,\n",
       " 777480: 321,\n",
       " 792948: 322,\n",
       " 793584: 323,\n",
       " 795670: 324,\n",
       " 797403: 325,\n",
       " 797419: 326,\n",
       " 804767: 327,\n",
       " 805625: 328,\n",
       " 805909: 329,\n",
       " 808409: 330,\n",
       " 809149: 331,\n",
       " 810718: 332,\n",
       " 811415: 333,\n",
       " 814845: 334,\n",
       " 827907: 335,\n",
       " 828482: 336,\n",
       " 834972: 337,\n",
       " 843185: 338,\n",
       " 844152: 339,\n",
       " 845723: 340,\n",
       " 847323: 341,\n",
       " 848971: 342,\n",
       " 850645: 343,\n",
       " 852232: 344,\n",
       " 852350: 345,\n",
       " 860310: 346,\n",
       " 862692: 347,\n",
       " 864126: 348,\n",
       " 864933: 349,\n",
       " 866821: 350,\n",
       " 870725: 351,\n",
       " 873437: 352,\n",
       " 873467: 353,\n",
       " 880701: 354,\n",
       " 880825: 355,\n",
       " 880834: 356,\n",
       " 884950: 357,\n",
       " 886996: 358,\n",
       " 890032: 359,\n",
       " 890133: 360,\n",
       " 894326: 361,\n",
       " 898054: 362,\n",
       " 905123: 363,\n",
       " 905432: 364,\n",
       " 909347: 365,\n",
       " 915064: 366,\n",
       " 915089: 367,\n",
       " 915093: 368,\n",
       " 915119: 369,\n",
       " 915126: 370,\n",
       " 918844: 371,\n",
       " 924065: 372,\n",
       " 929579: 373,\n",
       " 929636: 374,\n",
       " 938571: 375,\n",
       " 939393: 376,\n",
       " 940235: 377,\n",
       " 940881: 378,\n",
       " 944074: 379,\n",
       " 946067: 380,\n",
       " 946073: 381,\n",
       " 953812: 382,\n",
       " 962415: 383,\n",
       " 964011: 384,\n",
       " 970318: 385,\n",
       " 971497: 386,\n",
       " 978887: 387,\n",
       " 978934: 388,\n",
       " 989529: 389,\n",
       " 990267: 390,\n",
       " 991424: 391,\n",
       " 992596: 392,\n",
       " 992979: 393,\n",
       " 993002: 394,\n",
       " 995447: 395,\n",
       " 996158: 396,\n",
       " 1001114: 397,\n",
       " 1003000: 398,\n",
       " 1003609: 399,\n",
       " 1005183: 400,\n",
       " 1005186: 401,\n",
       " 1007082: 402,\n",
       " 1009583: 403,\n",
       " 1009587: 404,\n",
       " 1009594: 405,\n",
       " 1011690: 406,\n",
       " 1013391: 407,\n",
       " 1034263: 408,\n",
       " 1041617: 409,\n",
       " 1044558: 410,\n",
       " 1044561: 411,\n",
       " 1048060: 412,\n",
       " 1050220: 413,\n",
       " 1050841: 414,\n",
       " 1052068: 415,\n",
       " 1054055: 416,\n",
       " 1059207: 417,\n",
       " 1061125: 418,\n",
       " 1061971: 419,\n",
       " 1063451: 420,\n",
       " 1066031: 421,\n",
       " 1066033: 422,\n",
       " 1066281: 423,\n",
       " 1071758: 424,\n",
       " 1071985: 425,\n",
       " 1088383: 426,\n",
       " 1103451: 427,\n",
       " 1104192: 428,\n",
       " 1104221: 429,\n",
       " 1108512: 430,\n",
       " 1112981: 431,\n",
       " 1116757: 432,\n",
       " 1119474: 433,\n",
       " 1122071: 434,\n",
       " 1126385: 435,\n",
       " 1127922: 436,\n",
       " 1134243: 437,\n",
       " 1134443: 438,\n",
       " 1153751: 439,\n",
       " 1154526: 440,\n",
       " 1162551: 441,\n",
       " 1173126: 442,\n",
       " 1176536: 443,\n",
       " 1180975: 444,\n",
       " 1183087: 445,\n",
       " 1192279: 446,\n",
       " 1195632: 447,\n",
       " 1212416: 448,\n",
       " 1219660: 449,\n",
       " 1232837: 450,\n",
       " 1234524: 451,\n",
       " 1239842: 452,\n",
       " 1239850: 453,\n",
       " 1241223: 454,\n",
       " 1246940: 455,\n",
       " 1255894: 456,\n",
       " 1255910: 457,\n",
       " 1255926: 458,\n",
       " 1260460: 459,\n",
       " 1260557: 460,\n",
       " 1261936: 461,\n",
       " 1262280: 462,\n",
       " 1266042: 463,\n",
       " 1272315: 464,\n",
       " 1275118: 465,\n",
       " 1276249: 466,\n",
       " 1280460: 467,\n",
       " 1282678: 468,\n",
       " 1282679: 469,\n",
       " 1282693: 470,\n",
       " 1282720: 471,\n",
       " 1283636: 472,\n",
       " 1286098: 473,\n",
       " 1286673: 474,\n",
       " 1289828: 475,\n",
       " 1290223: 476,\n",
       " 1299378: 477,\n",
       " 1299444: 478,\n",
       " 1300108: 479,\n",
       " 1300484: 480,\n",
       " 1300866: 481,\n",
       " 1314151: 482,\n",
       " 1314463: 483,\n",
       " 1314464: 484,\n",
       " 1314467: 485,\n",
       " 1314469: 486,\n",
       " 1314756: 487,\n",
       " 1314774: 488,\n",
       " 1314792: 489,\n",
       " 1314830: 490,\n",
       " 1314835: 491,\n",
       " 1314836: 492,\n",
       " 1315478: 493,\n",
       " 1315771: 494,\n",
       " 1317133: 495,\n",
       " 1317331: 496,\n",
       " 1319500: 497,\n",
       " 1321992: 498,\n",
       " 1321993: 499,\n",
       " 1321994: 500,\n",
       " 1322012: 501,\n",
       " 1322014: 502,\n",
       " 1338889: 503,\n",
       " 1340327: 504,\n",
       " 1340546: 505,\n",
       " 1341288: 506,\n",
       " 1342246: 507,\n",
       " 1343295: 508,\n",
       " 1347452: 509,\n",
       " 1347516: 510,\n",
       " 1348626: 511,\n",
       " 1349907: 512,\n",
       " 1351021: 513,\n",
       " 1351110: 514,\n",
       " 1360579: 515,\n",
       " 1363087: 516,\n",
       " 1364199: 517,\n",
       " 1367535: 518,\n",
       " 1367537: 519,\n",
       " 1367538: 520,\n",
       " 1367540: 521,\n",
       " 1376202: 522,\n",
       " 1377838: 523,\n",
       " 1377839: 524,\n",
       " 1377967: 525,\n",
       " 1377969: 526,\n",
       " 1377970: 527,\n",
       " 1377971: 528,\n",
       " 1380777: 529,\n",
       " 1386449: 530,\n",
       " 1386485: 531,\n",
       " 1389412: 532,\n",
       " 1393186: 533,\n",
       " 1393191: 534,\n",
       " 1393275: 535,\n",
       " 1393277: 536,\n",
       " 1393280: 537,\n",
       " 1393458: 538,\n",
       " 1393459: 539,\n",
       " 1393547: 540,\n",
       " 1396330: 541,\n",
       " 1404240: 542,\n",
       " 1408610: 543,\n",
       " 1408612: 544,\n",
       " 1409301: 545,\n",
       " 1409302: 546,\n",
       " 1409303: 547,\n",
       " 1411949: 548,\n",
       " 1411978: 549,\n",
       " 1413134: 550,\n",
       " 1414440: 551,\n",
       " 1416324: 552,\n",
       " 1425558: 553,\n",
       " 1427839: 554,\n",
       " 1429615: 555,\n",
       " 1429839: 556,\n",
       " 1429934: 557,\n",
       " 1429938: 558,\n",
       " 1429939: 559,\n",
       " 1430129: 560,\n",
       " 1430130: 561,\n",
       " 1430131: 562,\n",
       " 1430440: 563,\n",
       " 1430679: 564,\n",
       " 1430681: 565,\n",
       " 1430686: 566,\n",
       " 1431029: 567,\n",
       " 1431031: 568,\n",
       " 1431033: 569,\n",
       " 1434321: 570,\n",
       " 1434324: 571,\n",
       " 1434533: 572,\n",
       " 1435212: 573,\n",
       " 1435388: 574,\n",
       " 1435389: 575,\n",
       " 1435393: 576,\n",
       " 1435398: 577,\n",
       " 1435399: 578,\n",
       " 1435402: 579,\n",
       " 1437191: 580,\n",
       " 1437193: 581,\n",
       " 1437194: 582,\n",
       " 1437197: 583,\n",
       " 1437200: 584,\n",
       " 1437203: 585,\n",
       " 1437206: 586,\n",
       " 1437209: 587,\n",
       " 1438395: 588,\n",
       " 1438396: 589,\n",
       " 1438443: 590,\n",
       " 1438445: 591,\n",
       " 1438451: 592,\n",
       " 1439076: 593,\n",
       " 1439078: 594,\n",
       " 1439512: 595,\n",
       " 1439713: 596,\n",
       " 1440793: 597,\n",
       " 1440796: 598,\n",
       " 1441177: 599,\n",
       " 1441180: 600,\n",
       " 1441181: 601,\n",
       " 1442175: 602,\n",
       " 1443653: 603,\n",
       " 1443657: 604,\n",
       " 1443660: 605,\n",
       " 1445198: 606,\n",
       " 1445201: 607,\n",
       " 1445203: 608,\n",
       " 1446978: 609,\n",
       " 1446982: 610,\n",
       " 1452053: 611,\n",
       " 1454780: 612,\n",
       " 1455042: 613,\n",
       " 1455113: 614,\n",
       " 1456687: 615,\n",
       " 1462426: 616,\n",
       " 1464385: 617,\n",
       " 1467120: 618,\n",
       " 1494460: 619,\n",
       " 1494462: 620,\n",
       " 1503261: 621,\n",
       " 1505035: 622,\n",
       " 1511111: 623,\n",
       " 1511133: 624,\n",
       " 1517870: 625,\n",
       " 1518045: 626,\n",
       " 1518406: 627,\n",
       " 1519430: 628,\n",
       " 1522922: 629,\n",
       " 1525280: 630,\n",
       " 1525281: 631,\n",
       " 1528026: 632,\n",
       " 1532109: 633,\n",
       " 1533983: 634,\n",
       " 1543164: 635,\n",
       " 1548880: 636,\n",
       " 1552366: 637,\n",
       " 1552384: 638,\n",
       " 1553767: 639,\n",
       " 1567574: 640,\n",
       " 1567673: 641,\n",
       " 1571950: 642,\n",
       " 1573310: 643,\n",
       " 1574511: 644,\n",
       " 1574896: 645,\n",
       " 1574945: 646,\n",
       " 1574966: 647,\n",
       " 1582516: 648,\n",
       " 1582950: 649,\n",
       " 1583848: 650,\n",
       " 1585908: 651,\n",
       " 1595982: 652,\n",
       " 1597877: 653,\n",
       " 1599204: 654,\n",
       " 1603064: 655,\n",
       " 1603194: 656,\n",
       " 1603202: 657,\n",
       " 1603210: 658,\n",
       " 1603222: 659,\n",
       " 1605113: 660,\n",
       " 1607517: 661,\n",
       " 1608195: 662,\n",
       " 1610924: 663,\n",
       " 1618209: 664,\n",
       " 1619147: 665,\n",
       " 1627209: 666,\n",
       " 1628986: 667,\n",
       " 1629658: 668,\n",
       " 1630269: 669,\n",
       " 1631119: 670,\n",
       " 1632677: 671,\n",
       " 1634059: 672,\n",
       " 1636919: 673,\n",
       " 1637503: 674,\n",
       " 1641657: 675,\n",
       " 1649540: 676,\n",
       " 1660423: 677,\n",
       " 1666721: 678,\n",
       " 1666726: 679,\n",
       " 1669730: 680,\n",
       " 1674489: 681,\n",
       " 1674928: 682,\n",
       " 1674935: 683,\n",
       " 1681527: 684,\n",
       " 1683483: 685,\n",
       " 1684622: 686,\n",
       " 1698383: 687,\n",
       " 1699548: 688,\n",
       " 1701690: 689,\n",
       " 1710610: 690,\n",
       " 1713432: 691,\n",
       " 1717382: 692,\n",
       " 1720404: 693,\n",
       " 1721304: 694,\n",
       " 1722540: 695,\n",
       " 1725015: 696,\n",
       " 1725570: 697,\n",
       " 1729453: 698,\n",
       " 1729614: 699,\n",
       " 1729617: 700,\n",
       " 1729631: 701,\n",
       " 1731587: 702,\n",
       " 1732946: 703,\n",
       " 1739315: 704,\n",
       " 1743942: 705,\n",
       " 1744093: 706,\n",
       " 1744684: 707,\n",
       " 1745268: 708,\n",
       " 1752606: 709,\n",
       " 1753436: 710,\n",
       " 1754272: 711,\n",
       " 1754564: 712,\n",
       " 1757629: 713,\n",
       " 1757846: 714,\n",
       " 1767150: 715,\n",
       " 1769429: 716,\n",
       " 1776781: 717,\n",
       " 1778033: 718,\n",
       " 1785264: 719,\n",
       " 1787201: 720,\n",
       " 1787219: 721,\n",
       " 1788698: 722,\n",
       " 1802943: 723,\n",
       " 1803657: 724,\n",
       " 1803658: 725,\n",
       " 1803867: 726,\n",
       " 1804435: 727,\n",
       " 1804439: 728,\n",
       " 1804442: 729,\n",
       " 1804445: 730,\n",
       " 1804446: 731,\n",
       " 1804639: 732,\n",
       " 1804640: 733,\n",
       " 1804830: 734,\n",
       " 1804832: 735,\n",
       " 1804835: 736,\n",
       " 1804837: 737,\n",
       " 1805067: 738,\n",
       " 1805069: 739,\n",
       " 1805107: 740,\n",
       " 1805108: 741,\n",
       " 1805109: 742,\n",
       " 1805110: 743,\n",
       " 1805309: 744,\n",
       " 1805313: 745,\n",
       " 1809374: 746,\n",
       " 1809376: 747,\n",
       " 1809394: 748,\n",
       " 1809776: 749,\n",
       " 1809797: 750,\n",
       " 1810621: 751,\n",
       " 1812418: 752,\n",
       " 1812420: 753,\n",
       " 1812422: 754,\n",
       " 1812423: 755,\n",
       " 1812424: 756,\n",
       " 1813316: 757,\n",
       " 1813385: 758,\n",
       " 1813992: 759,\n",
       " 1814051: 760,\n",
       " 1814547: 761,\n",
       " 1820160: 762,\n",
       " 1820459: 763,\n",
       " 1835778: 764,\n",
       " 1838651: 765,\n",
       " 1839521: 766,\n",
       " 1841057: 767,\n",
       " 1841829: 768,\n",
       " 1841871: 769,\n",
       " 1842480: 770,\n",
       " 1842492: 771,\n",
       " 1842515: 772,\n",
       " 1842523: 773,\n",
       " 1842803: 774,\n",
       " 1842885: 775,\n",
       " 1842896: 776,\n",
       " 1843194: 777,\n",
       " 1843325: 778,\n",
       " 1843341: 779,\n",
       " 1843356: 780,\n",
       " 1843365: 781,\n",
       " 1843372: 782,\n",
       " 1843378: 783,\n",
       " 1843382: 784,\n",
       " 1843400: 785,\n",
       " 1843769: 786,\n",
       " 1843876: 787,\n",
       " 1844160: 788,\n",
       " 1844173: 789,\n",
       " 1844204: 790,\n",
       " 1848064: 791,\n",
       " 1848554: 792,\n",
       " 1848637: 793,\n",
       " 1851761: 794,\n",
       " 1851801: 795,\n",
       " 1852527: 796,\n",
       " 1852545: 797,\n",
       " 1852829: 798,\n",
       " 1853181: 799,\n",
       " 1854409: 800,\n",
       " 1854538: 801,\n",
       " 1854629: 802,\n",
       " 1854649: 803,\n",
       " 1855142: 804,\n",
       " 1857358: 805,\n",
       " 1857383: 806,\n",
       " 1858566: 807,\n",
       " 1859446: 808,\n",
       " 1862249: 809,\n",
       " 1862664: 810,\n",
       " 1863327: 811,\n",
       " 1863650: 812,\n",
       " 1863668: 813,\n",
       " 1864291: 814,\n",
       " 1865993: 815,\n",
       " 1866886: 816,\n",
       " 1867192: 817,\n",
       " 1867423: 818,\n",
       " 1867711: 819,\n",
       " 1868167: 820,\n",
       " 1869355: 821,\n",
       " 1869364: 822,\n",
       " 1869366: 823,\n",
       " 1869372: 824,\n",
       " 1869377: 825,\n",
       " 1869382: 826,\n",
       " 1869391: 827,\n",
       " 1869400: 828,\n",
       " 1869408: 829,\n",
       " 1869842: 830,\n",
       " 1870717: 831,\n",
       " 1871678: 832,\n",
       " 1871687: 833,\n",
       " 1874227: 834,\n",
       " 1874538: 835,\n",
       " 1875288: 836,\n",
       " 1876609: 837,\n",
       " 1876610: 838,\n",
       " 1876611: 839,\n",
       " 1876617: 840,\n",
       " 1876620: 841,\n",
       " 1876622: 842,\n",
       " 1876628: 843,\n",
       " 1876630: 844,\n",
       " 1876642: 845,\n",
       " 1877747: 846,\n",
       " 1877925: 847,\n",
       " 1879061: 848,\n",
       " 1879066: 849,\n",
       " 1879697: 850,\n",
       " 1880111: 851,\n",
       " 1885253: 852,\n",
       " 1885756: 853,\n",
       " 1885768: 854,\n",
       " 1887607: 855,\n",
       " 1891081: 856,\n",
       " 1898405: 857,\n",
       " 1904698: 858,\n",
       " 1909683: 859,\n",
       " 1910315: 860,\n",
       " 1910612: 861,\n",
       " 1910619: 862,\n",
       " 1910851: 863,\n",
       " 1910858: 864,\n",
       " 1910887: 865,\n",
       " 1911119: 866,\n",
       " 1913117: 867,\n",
       " 1917252: 868,\n",
       " 1917265: 869,\n",
       " 1917957: 870,\n",
       " 1917972: 871,\n",
       " 1917983: 872,\n",
       " 1921498: 873,\n",
       " 1921500: 874,\n",
       " 1932644: 875,\n",
       " 1946706: 876,\n",
       " 1947734: 877,\n",
       " 1948502: 878,\n",
       " 1949234: 879,\n",
       " 1949250: 880,\n",
       " 1950027: 881,\n",
       " 1950060: 882,\n",
       " 1953446: 883,\n",
       " 1954030: 884,\n",
       " 1954478: 885,\n",
       " 1955019: 886,\n",
       " 1955879: 887,\n",
       " 1956143: 888,\n",
       " 1960828: 889,\n",
       " 1961815: 890,\n",
       " 1961935: 891,\n",
       " 1961956: 892,\n",
       " 1962408: 893,\n",
       " 1962429: 894,\n",
       " 1962453: 895,\n",
       " 1963051: 896,\n",
       " 1963736: 897,\n",
       " 1964312: 898,\n",
       " 1965485: 899,\n",
       " 1965521: 900,\n",
       " 1965988: 901,\n",
       " 1966100: 902,\n",
       " 1966476: 903,\n",
       " 1966500: 904,\n",
       " 1968390: 905,\n",
       " 1969101: 906,\n",
       " 1969113: 907,\n",
       " 1969711: 908,\n",
       " 1969726: 909,\n",
       " 1969982: 910,\n",
       " 1971208: 911,\n",
       " 1971216: 912,\n",
       " 1971589: 913,\n",
       " 1971828: 914,\n",
       " 1972105: 915,\n",
       " 1972837: 916,\n",
       " 1972863: 917,\n",
       " 1973183: 918,\n",
       " 1973217: 919,\n",
       " 1973773: 920,\n",
       " 1974349: 921,\n",
       " 1974359: 922,\n",
       " 1976623: 923,\n",
       " 1977737: 924,\n",
       " 1977746: 925,\n",
       " 1979735: 926,\n",
       " 1981347: 927,\n",
       " 1981476: 928,\n",
       " 1981616: 929,\n",
       " 1982287: 930,\n",
       " 1983813: 931,\n",
       " 1984268: 932,\n",
       " 1985515: 933,\n",
       " 1985680: 934,\n",
       " 1986315: 935,\n",
       " 1988705: 936,\n",
       " 1990159: 937,\n",
       " 1991249: 938,\n",
       " 1991253: 939,\n",
       " 1991588: 940,\n",
       " 1992350: 941,\n",
       " 1994274: 942,\n",
       " 1994288: 943,\n",
       " 1995574: 944,\n",
       " 1998390: 945,\n",
       " 1998461: 946,\n",
       " 1998937: 947,\n",
       " 1999185: 948,\n",
       " 1999612: 949,\n",
       " 1999706: 950,\n",
       " 2000606: 951,\n",
       " 2000621: 952,\n",
       " 2001909: 953,\n",
       " 2002878: 954,\n",
       " 2002929: 955,\n",
       " 2003132: 956,\n",
       " 2003186: 957,\n",
       " 2004237: 958,\n",
       " 2006820: 959,\n",
       " 2008849: 960,\n",
       " 2009904: 961,\n",
       " 2013749: 962,\n",
       " 2014502: 963,\n",
       " 2017488: 964,\n",
       " 2017643: 965,\n",
       " 2017663: 966,\n",
       " 2019242: 967,\n",
       " 2019251: 968,\n",
       " 2021268: 969,\n",
       " 2021289: 970,\n",
       " 2021540: 971,\n",
       " 2021582: 972,\n",
       " 2023346: 973,\n",
       " 2023657: 974,\n",
       " 2025712: 975,\n",
       " 2026053: 976,\n",
       " 2026058: 977,\n",
       " 2026708: 978,\n",
       " 2026736: 979,\n",
       " 2028876: 980,\n",
       " 2029619: 981,\n",
       " 2029633: 982,\n",
       " 2029796: 983,\n",
       " 2030853: 984,\n",
       " 2032532: 985,\n",
       " 2033235: 986,\n",
       " 2035739: 987,\n",
       " 2039127: 988,\n",
       " 2042420: 989,\n",
       " 2045538: 990,\n",
       " 2045547: 991,\n",
       " 2048876: 992,\n",
       " 2048942: 993,\n",
       " 2049541: 994,\n",
       " 2052234: 995,\n",
       " 2055495: 996,\n",
       " 2057438: 997,\n",
       " 2058674: 998,\n",
       " 2060002: 999,\n",
       " ...}"
      ]
     },
     "execution_count": 100,
     "metadata": {},
     "output_type": "execute_result"
    }
   ],
   "source": [
    "mapped_node_IDs"
   ]
  },
  {
   "cell_type": "code",
   "execution_count": 101,
   "id": "4c9513ab-f2c8-49da-ba6b-66f0edc895e6",
   "metadata": {
    "tags": []
   },
   "outputs": [
    {
     "data": {
      "text/plain": [
       "138670"
      ]
     },
     "execution_count": 101,
     "metadata": {},
     "output_type": "execute_result"
    }
   ],
   "source": [
    "mapped_node_IDs[230425980]"
   ]
  },
  {
   "cell_type": "code",
   "execution_count": 102,
   "id": "b2981161-961e-4cfb-b9c5-7990eafd597a",
   "metadata": {
    "tags": []
   },
   "outputs": [],
   "source": [
    "# we need to do this mapping for the rest of the data\n",
    "data_edges['txId1']=data_edges['txId1'].map(mapped_node_IDs)\n",
    "data_edges['txId2']=data_edges['txId2'].map(mapped_node_IDs)"
   ]
  },
  {
   "cell_type": "code",
   "execution_count": 103,
   "id": "39c75bde-58c0-43c5-b952-a13312cfd27e",
   "metadata": {
    "tags": []
   },
   "outputs": [
    {
     "data": {
      "text/plain": [
       "0         138670\n",
       "1         141325\n",
       "2         139232\n",
       "3         138150\n",
       "4         141268\n",
       "           ...  \n",
       "234350    100863\n",
       "234351    112040\n",
       "234352    100420\n",
       "234353     54833\n",
       "234354    101159\n",
       "Name: txId1, Length: 234355, dtype: int64"
      ]
     },
     "execution_count": 103,
     "metadata": {},
     "output_type": "execute_result"
    }
   ],
   "source": [
    "data_edges['txId1']"
   ]
  },
  {
   "cell_type": "code",
   "execution_count": 104,
   "id": "55dd3963-93d4-4b19-99e7-74b3d944d51c",
   "metadata": {
    "tags": []
   },
   "outputs": [
    {
     "data": {
      "text/html": [
       "<div>\n",
       "<style scoped>\n",
       "    .dataframe tbody tr th:only-of-type {\n",
       "        vertical-align: middle;\n",
       "    }\n",
       "\n",
       "    .dataframe tbody tr th {\n",
       "        vertical-align: top;\n",
       "    }\n",
       "\n",
       "    .dataframe thead th {\n",
       "        text-align: right;\n",
       "    }\n",
       "</style>\n",
       "<table border=\"1\" class=\"dataframe\">\n",
       "  <thead>\n",
       "    <tr style=\"text-align: right;\">\n",
       "      <th></th>\n",
       "      <th>txId1</th>\n",
       "      <th>txId2</th>\n",
       "    </tr>\n",
       "  </thead>\n",
       "  <tbody>\n",
       "    <tr>\n",
       "      <th>0</th>\n",
       "      <td>138670</td>\n",
       "      <td>4142</td>\n",
       "    </tr>\n",
       "    <tr>\n",
       "      <th>1</th>\n",
       "      <td>141325</td>\n",
       "      <td>142201</td>\n",
       "    </tr>\n",
       "    <tr>\n",
       "      <th>2</th>\n",
       "      <td>139232</td>\n",
       "      <td>139223</td>\n",
       "    </tr>\n",
       "    <tr>\n",
       "      <th>3</th>\n",
       "      <td>138150</td>\n",
       "      <td>140289</td>\n",
       "    </tr>\n",
       "    <tr>\n",
       "      <th>4</th>\n",
       "      <td>141268</td>\n",
       "      <td>141368</td>\n",
       "    </tr>\n",
       "    <tr>\n",
       "      <th>5</th>\n",
       "      <td>141673</td>\n",
       "      <td>18474</td>\n",
       "    </tr>\n",
       "    <tr>\n",
       "      <th>6</th>\n",
       "      <td>23457</td>\n",
       "      <td>138470</td>\n",
       "    </tr>\n",
       "    <tr>\n",
       "      <th>7</th>\n",
       "      <td>22746</td>\n",
       "      <td>4135</td>\n",
       "    </tr>\n",
       "    <tr>\n",
       "      <th>8</th>\n",
       "      <td>3094</td>\n",
       "      <td>142343</td>\n",
       "    </tr>\n",
       "    <tr>\n",
       "      <th>9</th>\n",
       "      <td>138508</td>\n",
       "      <td>22422</td>\n",
       "    </tr>\n",
       "  </tbody>\n",
       "</table>\n",
       "</div>"
      ],
      "text/plain": [
       "    txId1   txId2\n",
       "0  138670    4142\n",
       "1  141325  142201\n",
       "2  139232  139223\n",
       "3  138150  140289\n",
       "4  141268  141368\n",
       "5  141673   18474\n",
       "6   23457  138470\n",
       "7   22746    4135\n",
       "8    3094  142343\n",
       "9  138508   22422"
      ]
     },
     "execution_count": 104,
     "metadata": {},
     "output_type": "execute_result"
    }
   ],
   "source": [
    "data_edges.head(10)"
   ]
  },
  {
   "cell_type": "code",
   "execution_count": 105,
   "id": "a616860e-198f-4f35-8c00-6ae25bfcd6d0",
   "metadata": {
    "tags": []
   },
   "outputs": [],
   "source": [
    "data_edges=data_edges.astype(int)"
   ]
  },
  {
   "cell_type": "code",
   "execution_count": 106,
   "id": "99b47a61-cc17-469e-a078-d195ac4b65d0",
   "metadata": {},
   "outputs": [
    {
     "data": {
      "text/html": [
       "<div>\n",
       "<style scoped>\n",
       "    .dataframe tbody tr th:only-of-type {\n",
       "        vertical-align: middle;\n",
       "    }\n",
       "\n",
       "    .dataframe tbody tr th {\n",
       "        vertical-align: top;\n",
       "    }\n",
       "\n",
       "    .dataframe thead th {\n",
       "        text-align: right;\n",
       "    }\n",
       "</style>\n",
       "<table border=\"1\" class=\"dataframe\">\n",
       "  <thead>\n",
       "    <tr style=\"text-align: right;\">\n",
       "      <th></th>\n",
       "      <th>txId1</th>\n",
       "      <th>txId2</th>\n",
       "    </tr>\n",
       "  </thead>\n",
       "  <tbody>\n",
       "    <tr>\n",
       "      <th>0</th>\n",
       "      <td>138670</td>\n",
       "      <td>4142</td>\n",
       "    </tr>\n",
       "    <tr>\n",
       "      <th>1</th>\n",
       "      <td>141325</td>\n",
       "      <td>142201</td>\n",
       "    </tr>\n",
       "    <tr>\n",
       "      <th>2</th>\n",
       "      <td>139232</td>\n",
       "      <td>139223</td>\n",
       "    </tr>\n",
       "    <tr>\n",
       "      <th>3</th>\n",
       "      <td>138150</td>\n",
       "      <td>140289</td>\n",
       "    </tr>\n",
       "    <tr>\n",
       "      <th>4</th>\n",
       "      <td>141268</td>\n",
       "      <td>141368</td>\n",
       "    </tr>\n",
       "  </tbody>\n",
       "</table>\n",
       "</div>"
      ],
      "text/plain": [
       "    txId1   txId2\n",
       "0  138670    4142\n",
       "1  141325  142201\n",
       "2  139232  139223\n",
       "3  138150  140289\n",
       "4  141268  141368"
      ]
     },
     "execution_count": 106,
     "metadata": {},
     "output_type": "execute_result"
    }
   ],
   "source": [
    "data_edges.head(5)"
   ]
  },
  {
   "cell_type": "code",
   "execution_count": 107,
   "id": "e18bb5d0-fc46-4a0e-bb90-5ec12561a433",
   "metadata": {
    "tags": []
   },
   "outputs": [
    {
     "data": {
      "text/plain": [
       "tensor([[138670,   4142],\n",
       "        [141325, 142201],\n",
       "        [139232, 139223],\n",
       "        ...,\n",
       "        [100420, 100419],\n",
       "        [ 54833,  81951],\n",
       "        [101159, 101163]])"
      ]
     },
     "execution_count": 107,
     "metadata": {},
     "output_type": "execute_result"
    }
   ],
   "source": [
    "# converting the edges data to tensor\n",
    "edge_indices=data_edges.values\n",
    "edge_indices=torch.tensor(edge_indices,dtype=torch.long).contiguous()\n",
    "edge_indices"
   ]
  },
  {
   "cell_type": "code",
   "execution_count": 108,
   "id": "a624bd27-c331-421b-9396-1263036a61cb",
   "metadata": {
    "tags": []
   },
   "outputs": [
    {
     "data": {
      "text/html": [
       "<div>\n",
       "<style scoped>\n",
       "    .dataframe tbody tr th:only-of-type {\n",
       "        vertical-align: middle;\n",
       "    }\n",
       "\n",
       "    .dataframe tbody tr th {\n",
       "        vertical-align: top;\n",
       "    }\n",
       "\n",
       "    .dataframe thead th {\n",
       "        text-align: right;\n",
       "    }\n",
       "</style>\n",
       "<table border=\"1\" class=\"dataframe\">\n",
       "  <thead>\n",
       "    <tr style=\"text-align: right;\">\n",
       "      <th></th>\n",
       "      <th>txId</th>\n",
       "      <th>class</th>\n",
       "    </tr>\n",
       "  </thead>\n",
       "  <tbody>\n",
       "    <tr>\n",
       "      <th>0</th>\n",
       "      <td>230425980</td>\n",
       "      <td>2</td>\n",
       "    </tr>\n",
       "    <tr>\n",
       "      <th>1</th>\n",
       "      <td>5530458</td>\n",
       "      <td>2</td>\n",
       "    </tr>\n",
       "    <tr>\n",
       "      <th>2</th>\n",
       "      <td>232022460</td>\n",
       "      <td>2</td>\n",
       "    </tr>\n",
       "    <tr>\n",
       "      <th>3</th>\n",
       "      <td>232438397</td>\n",
       "      <td>0</td>\n",
       "    </tr>\n",
       "    <tr>\n",
       "      <th>4</th>\n",
       "      <td>230460314</td>\n",
       "      <td>2</td>\n",
       "    </tr>\n",
       "  </tbody>\n",
       "</table>\n",
       "</div>"
      ],
      "text/plain": [
       "        txId  class\n",
       "0  230425980      2\n",
       "1    5530458      2\n",
       "2  232022460      2\n",
       "3  232438397      0\n",
       "4  230460314      2"
      ]
     },
     "execution_count": 108,
     "metadata": {},
     "output_type": "execute_result"
    }
   ],
   "source": [
    "data_classes.head(5)"
   ]
  },
  {
   "cell_type": "code",
   "execution_count": 109,
   "id": "e4c2b39f-3aa6-430e-99d3-9bf7350a8dd4",
   "metadata": {
    "tags": []
   },
   "outputs": [],
   "source": [
    "node_features=data_classes_and_features.drop(['txId'],axis=1)\n",
    "# liccit_classified_index=data_classes_an.loc[data_classes_and_features['class']==0]\n",
    "# liccit_classified_index\n",
    "# node_features.drop(columns=[0,1,'class'])\n",
    "# node_features_tensor=torch.tensor(np.array(node_features.values,dtype=np.double),dtype=torch.double)"
   ]
  },
  {
   "cell_type": "code",
   "execution_count": 110,
   "id": "573ee6a4-8a11-4d01-a807-b68dccf571c8",
   "metadata": {
    "tags": []
   },
   "outputs": [
    {
     "data": {
      "text/plain": [
       "torch.Size([203769, 165])"
      ]
     },
     "execution_count": 110,
     "metadata": {},
     "output_type": "execute_result"
    }
   ],
   "source": [
    "node_features_tensor.shape"
   ]
  },
  {
   "cell_type": "code",
   "execution_count": 111,
   "id": "578e431d-fd60-4e92-8432-054c91f4f84a",
   "metadata": {
    "tags": []
   },
   "outputs": [],
   "source": [
    "llicit_classified_index=node_features.loc[node_features['class']==0].index\n",
    "illicit_classified_index=node_features.loc[node_features['class']==1].index\n",
    "unknown_classified_index=node_features.loc[node_features['class']==2].index\n",
    "classified_index=node_features.loc[node_features['class']!=2].index"
   ]
  },
  {
   "cell_type": "code",
   "execution_count": 112,
   "id": "b39676dd-e48a-4de6-976d-f0458bba070e",
   "metadata": {
    "tags": []
   },
   "outputs": [],
   "source": [
    "import numpy as np\n",
    "node_features=node_features.drop(columns=[0,1,'class'])\n",
    "node_features_tensor=torch.tensor(np.array(node_features.values,dtype=np.double),dtype=torch.double)"
   ]
  },
  {
   "cell_type": "code",
   "execution_count": 113,
   "id": "3091b50c-5090-4fb6-acbf-182bc640190c",
   "metadata": {
    "tags": []
   },
   "outputs": [
    {
     "data": {
      "text/plain": [
       "(203769, 165)"
      ]
     },
     "execution_count": 113,
     "metadata": {},
     "output_type": "execute_result"
    }
   ],
   "source": [
    "node_features.shape"
   ]
  },
  {
   "cell_type": "code",
   "execution_count": 114,
   "id": "e3bcf809-61ae-4db0-b415-bc4779ce68e3",
   "metadata": {
    "tags": []
   },
   "outputs": [
    {
     "data": {
      "text/plain": [
       "Index([     1,      2,      7,      8,     11,     12,     17,     18,     22,\n",
       "           23,\n",
       "       ...\n",
       "       203676, 203677, 203678, 203679, 203681, 203700, 203709, 203727, 203743,\n",
       "       203750],\n",
       "      dtype='int64', length=42019)"
      ]
     },
     "execution_count": 114,
     "metadata": {},
     "output_type": "execute_result"
    }
   ],
   "source": [
    "llicit_classified_index"
   ]
  },
  {
   "cell_type": "code",
   "execution_count": 115,
   "id": "8f961668-f61c-4534-8c1d-ae1ec72ea8da",
   "metadata": {
    "tags": []
   },
   "outputs": [
    {
     "data": {
      "text/plain": [
       "Index([   849,   1115,   1331,   1351,   1356,   1773,   1820,   2613,   2718,\n",
       "         2719,\n",
       "       ...\n",
       "       202841, 202867, 202868, 202869, 203205, 203273, 203274, 203482, 203698,\n",
       "       203699],\n",
       "      dtype='int64', length=4545)"
      ]
     },
     "execution_count": 115,
     "metadata": {},
     "output_type": "execute_result"
    }
   ],
   "source": [
    "illicit_classified_index"
   ]
  },
  {
   "cell_type": "code",
   "execution_count": 116,
   "id": "8ad8f608-6b03-4904-8fdc-5b8ad51303bc",
   "metadata": {
    "tags": []
   },
   "outputs": [
    {
     "data": {
      "text/plain": [
       "Index([     0,      3,      4,      5,      6,      9,     10,     13,     14,\n",
       "           15,\n",
       "       ...\n",
       "       203759, 203760, 203761, 203762, 203763, 203764, 203765, 203766, 203767,\n",
       "       203768],\n",
       "      dtype='int64', length=157205)"
      ]
     },
     "execution_count": 116,
     "metadata": {},
     "output_type": "execute_result"
    }
   ],
   "source": [
    "unknown_classified_index"
   ]
  },
  {
   "cell_type": "code",
   "execution_count": 117,
   "id": "2f4ec0bd-0e39-4b3c-9351-dd1049a19b71",
   "metadata": {
    "tags": []
   },
   "outputs": [
    {
     "data": {
      "text/plain": [
       "tensor([[-0.1685,  0.2709, -0.0914,  ...,  1.1516,  1.5197,  1.5214],\n",
       "        [-0.1708, -0.1314,  1.0186,  ..., -0.1221, -0.3800, -0.3793],\n",
       "        [ 1.3052, -0.2106, -1.7564,  ..., -0.1310,  0.0070,  0.0178],\n",
       "        ...,\n",
       "        [-0.1727, -0.1588, -1.2014,  ..., -0.2698, -0.1206, -0.1198],\n",
       "        [-0.1727, -0.1588, -1.2014,  ..., -0.2698, -0.1206, -0.1198],\n",
       "        [-0.1433, -0.1588, -1.2014,  ..., -0.0975, -0.1206, -0.1198]],\n",
       "       dtype=torch.float64)"
      ]
     },
     "execution_count": 117,
     "metadata": {},
     "output_type": "execute_result"
    }
   ],
   "source": [
    "#converting node features to tensor\n",
    "import numpy as np\n",
    "node_features_tensor=torch.tensor(np.array(node_features.values,dtype=np.double),dtype=torch.double)\n",
    "node_features_tensor"
   ]
  },
  {
   "cell_type": "code",
   "execution_count": 118,
   "id": "084858ca-21c4-4442-a598-b54d674dbf11",
   "metadata": {
    "tags": []
   },
   "outputs": [],
   "source": [
    "labels=data_classes_and_features['class'].values"
   ]
  },
  {
   "cell_type": "code",
   "execution_count": 119,
   "id": "d8ce6e60-b2bd-4849-a4cc-f6dc1ed030f7",
   "metadata": {
    "tags": []
   },
   "outputs": [
    {
     "data": {
      "text/plain": [
       "array([2, 0, 0, ..., 2, 2, 2], dtype=int64)"
      ]
     },
     "execution_count": 119,
     "metadata": {},
     "output_type": "execute_result"
    }
   ],
   "source": [
    "labels"
   ]
  },
  {
   "cell_type": "code",
   "execution_count": 120,
   "id": "689cde46-c7ba-4718-b92f-f6cf7f45c31d",
   "metadata": {
    "tags": []
   },
   "outputs": [
    {
     "data": {
      "text/plain": [
       "array([     1,      2,      7, ..., 203727, 203743, 203750], dtype=int64)"
      ]
     },
     "execution_count": 120,
     "metadata": {},
     "output_type": "execute_result"
    }
   ],
   "source": [
    "classified_index.values"
   ]
  },
  {
   "cell_type": "code",
   "execution_count": 121,
   "id": "c93a1345-90f0-44b3-8cf9-aa738fe53364",
   "metadata": {
    "tags": []
   },
   "outputs": [
    {
     "data": {
      "text/plain": [
       "array([88559, 14629, 51427, ..., 54124, 93404, 79632], dtype=int64)"
      ]
     },
     "execution_count": 121,
     "metadata": {},
     "output_type": "execute_result"
    }
   ],
   "source": [
    "from sklearn.model_selection import train_test_split\n",
    "train_index,val_index=train_test_split(classified_index.values,test_size=0.2)\n",
    "train_index"
   ]
  },
  {
   "cell_type": "code",
   "execution_count": 122,
   "id": "bb0b0fec-302f-48df-8eab-dd1e39f34e01",
   "metadata": {
    "tags": []
   },
   "outputs": [],
   "source": [
    "# initializing all edge weights(attention) to 1\n",
    "weights = torch.tensor([1]* data_edges.shape[1] , dtype=torch.double) "
   ]
  },
  {
   "cell_type": "code",
   "execution_count": 153,
   "id": "ac726062-f919-45d1-84f4-9e7bea4778b6",
   "metadata": {
    "tags": []
   },
   "outputs": [],
   "source": [
    "data_edges_tensor=torch.tensor(np.array(data_edges.values).T , dtype=torch.long).contiguous()"
   ]
  },
  {
   "cell_type": "code",
   "execution_count": 154,
   "id": "80e66ce8-6249-4475-94ea-b0483c4bce3e",
   "metadata": {
    "tags": []
   },
   "outputs": [],
   "source": [
    "from torch_geometric.data import Data\n",
    "data=Data(x=node_features_tensor,edge_index=data_edges_tensor,edge_attr=weights,y=torch.tensor(labels,dtype=torch.double))"
   ]
  },
  {
   "cell_type": "code",
   "execution_count": 155,
   "id": "104c350c-ff38-4173-a445-ec115a58eecf",
   "metadata": {
    "tags": []
   },
   "outputs": [],
   "source": [
    "data.train_index=train_index\n",
    "data.val_index=val_index\n",
    "data.test_index=unknown_classified_index"
   ]
  },
  {
   "cell_type": "code",
   "execution_count": 156,
   "id": "0a8e6b22-c4eb-4f41-8975-6bfb8ec027ed",
   "metadata": {
    "tags": []
   },
   "outputs": [
    {
     "data": {
      "text/html": [
       "<div>\n",
       "<style scoped>\n",
       "    .dataframe tbody tr th:only-of-type {\n",
       "        vertical-align: middle;\n",
       "    }\n",
       "\n",
       "    .dataframe tbody tr th {\n",
       "        vertical-align: top;\n",
       "    }\n",
       "\n",
       "    .dataframe thead th {\n",
       "        text-align: right;\n",
       "    }\n",
       "</style>\n",
       "<table border=\"1\" class=\"dataframe\">\n",
       "  <thead>\n",
       "    <tr style=\"text-align: right;\">\n",
       "      <th></th>\n",
       "      <th>txId1</th>\n",
       "      <th>txId2</th>\n",
       "    </tr>\n",
       "  </thead>\n",
       "  <tbody>\n",
       "    <tr>\n",
       "      <th>40659</th>\n",
       "      <td>1</td>\n",
       "      <td>88430</td>\n",
       "    </tr>\n",
       "    <tr>\n",
       "      <th>42075</th>\n",
       "      <td>1</td>\n",
       "      <td>88638</td>\n",
       "    </tr>\n",
       "    <tr>\n",
       "      <th>42390</th>\n",
       "      <td>1</td>\n",
       "      <td>5574</td>\n",
       "    </tr>\n",
       "  </tbody>\n",
       "</table>\n",
       "</div>"
      ],
      "text/plain": [
       "       txId1  txId2\n",
       "40659      1  88430\n",
       "42075      1  88638\n",
       "42390      1   5574"
      ]
     },
     "execution_count": 156,
     "metadata": {},
     "output_type": "execute_result"
    }
   ],
   "source": [
    "data_edges.loc[data_edges['txId1']==1]\n",
    "# data_edges"
   ]
  },
  {
   "cell_type": "markdown",
   "id": "26eebe4d-98a3-4ed1-b199-e57ced8da2f2",
   "metadata": {},
   "source": [
    "## Pytorch Model"
   ]
  },
  {
   "cell_type": "code",
   "execution_count": 157,
   "id": "a4f056a7-5d44-4d5f-bc09-d1eaffac2864",
   "metadata": {
    "tags": []
   },
   "outputs": [],
   "source": [
    "config={\n",
    "    \"heads\":2,\n",
    "    \"model\":\"GAT2\",\n",
    "    \"learning_rate\":0.01,\n",
    "    \"dropout\":0.3,\n",
    "    \"hidden_dim\":128,\n",
    "    \"epochs\":100\n",
    "}"
   ]
  },
  {
   "cell_type": "code",
   "execution_count": 158,
   "id": "93e45149-f299-40fd-8b0a-059fee74b612",
   "metadata": {
    "tags": []
   },
   "outputs": [],
   "source": [
    "from torch_geometric.nn import GATConv,GATv2Conv , GCNConv\n",
    "import torch.nn as nn\n",
    "import torch.nn.functional as func"
   ]
  },
  {
   "cell_type": "code",
   "execution_count": 159,
   "id": "df0e0222-ec70-4cf1-834f-01021cf5be59",
   "metadata": {
    "tags": []
   },
   "outputs": [
    {
     "data": {
      "text/plain": [
       "{'heads': 2,\n",
       " 'model': 'GAT2',\n",
       " 'learning_rate': 0.01,\n",
       " 'dropout': 0.3,\n",
       " 'hidden_dim': 128,\n",
       " 'epochs': 100}"
      ]
     },
     "execution_count": 159,
     "metadata": {},
     "output_type": "execute_result"
    }
   ],
   "source": [
    "config"
   ]
  },
  {
   "cell_type": "code",
   "execution_count": 160,
   "id": "8b7892ad-f370-46a6-89f0-dd7ea4249bd3",
   "metadata": {
    "tags": []
   },
   "outputs": [],
   "source": [
    "# class GAT_Model(nn.Module):\n",
    "#     def __init__(self,input_dim,hidden_dim,output_dim,config):\n",
    "#         super(GAT_Model,self).__init__()\n",
    "#         self.config=config\n",
    "#         # GAT convolution layers\n",
    "#         self.conv1=GATConv(in_channels=input_dim,out_channels=hidden_dim,heads=config[\"heads\"])\n",
    "#         self.conv2=GATConv(in_channels=config['heads']*hidden_dim,out_channels=hidden_dim,heads=config['heads'])\n",
    "#         self.conv3=GATConv(in_channels=config['heads']*hidden_dim,out_channels=hidden_dim,heads=config['heads'])\n",
    "        \n",
    "#         # Now we will add the linear, dropout and activation layers\n",
    "#         self.aggregation=nn.Sequential(\n",
    "#             nn.Linear(in_features=hidden_dim*config['heads'],out_features=hidden_dim),\n",
    "#             nn.Dropout(p=config[\"dropout\"]),\n",
    "#             nn.Linear(in_features=hidden_dim,out_features=output_dim)\n",
    "#         )\n",
    "        \n",
    "#     def forward(self,data):\n",
    "#         x,edge_index=data.x,data.edge_index\n",
    "#         x=self.conv1(x,edge_index)\n",
    "#         x=func.dropout(nn.ReLU(x),p=self.config['heads'])\n",
    "#         x=self.conv2(x,edge_index)\n",
    "#         x=func.dropout(nn.ReLU(x),p=self.config['heads'])\n",
    "#         x=self.conv3(x,edge_index)\n",
    "#         x=self.aggregation(x)\n",
    "#         x=func.sigmoid(x)\n",
    "#         return x\n",
    "        "
   ]
  },
  {
   "cell_type": "code",
   "execution_count": 161,
   "id": "0ee6adb0-aad6-4f5d-8bce-4094b0503beb",
   "metadata": {
    "tags": []
   },
   "outputs": [],
   "source": [
    "import torch\n",
    "import torch.nn as nn\n",
    "import torch.nn.functional as F\n",
    "from torch_geometric.nn import GATConv\n",
    "\n",
    "class GAT_Model(nn.Module):\n",
    "    def __init__(self, input_dim, hidden_dim, output_dim, config):\n",
    "        super(GAT_Model, self).__init__()\n",
    "        self.config = config\n",
    "        \n",
    "        # GAT convolution layers\n",
    "        self.conv1 = GATConv(in_channels=input_dim, out_channels=hidden_dim, heads=config[\"heads\"])\n",
    "        self.conv2 = GATConv(in_channels=config['heads'] * hidden_dim, out_channels=hidden_dim, heads=config['heads'])\n",
    "        self.conv3 = GATConv(in_channels=config['heads'] * hidden_dim, out_channels=hidden_dim, heads=config['heads'])\n",
    "        \n",
    "        # Linear, dropout, and activation layers\n",
    "        self.aggregation = nn.Sequential(\n",
    "            nn.Linear(in_features=hidden_dim * config['heads'], out_features=hidden_dim),\n",
    "            nn.Dropout(p=config[\"dropout\"]),\n",
    "            nn.Linear(in_features=hidden_dim, out_features=output_dim)\n",
    "        )\n",
    "        \n",
    "    def forward(self, data):\n",
    "        x, edge_index = data.x, data.edge_index\n",
    "        \n",
    "        x = self.conv1(x, edge_index)\n",
    "        x = F.relu(x)\n",
    "        x = F.dropout(x, p=self.config['dropout'], training=self.training)\n",
    "        \n",
    "        x = self.conv2(x, edge_index)\n",
    "        x = F.relu(x)\n",
    "        x = F.dropout(x, p=self.config['dropout'], training=self.training)\n",
    "        \n",
    "        x = self.conv3(x, edge_index)\n",
    "        x = F.relu(x)\n",
    "        \n",
    "        x = self.aggregation(x)\n",
    "        x = torch.sigmoid(x)\n",
    "        \n",
    "        return x\n"
   ]
  },
  {
   "cell_type": "code",
   "execution_count": 162,
   "id": "dd440f13-688a-4bce-943a-4f44c31926f9",
   "metadata": {
    "tags": []
   },
   "outputs": [
    {
     "data": {
      "text/plain": [
       "<bound method Module.parameters of GAT_Model(\n",
       "  (conv1): GATConv(165, 128, heads=2)\n",
       "  (conv2): GATConv(256, 128, heads=2)\n",
       "  (conv3): GATConv(256, 128, heads=2)\n",
       "  (aggregation): Sequential(\n",
       "    (0): Linear(in_features=256, out_features=128, bias=True)\n",
       "    (1): Dropout(p=0.3, inplace=False)\n",
       "    (2): Linear(in_features=128, out_features=1, bias=True)\n",
       "  )\n",
       ")>"
      ]
     },
     "execution_count": 162,
     "metadata": {},
     "output_type": "execute_result"
    }
   ],
   "source": [
    "from torch.optim import Adam\n",
    "from torch.nn import BCELoss\n",
    "from torch.optim.lr_scheduler import ReduceLROnPlateau\n",
    "\n",
    "\n",
    "# node_features=166\n",
    "model=GAT_Model(input_dim=data.num_node_features,hidden_dim=config['hidden_dim'],output_dim=1,config=config)\n",
    "model.parameters\n",
    "# optimizer=Adam()"
   ]
  },
  {
   "cell_type": "code",
   "execution_count": 163,
   "id": "4a5e6fd9-9fa3-4e3d-93da-3e5065c44285",
   "metadata": {
    "tags": []
   },
   "outputs": [
    {
     "data": {
      "text/plain": [
       "torch.Tensor"
      ]
     },
     "execution_count": 163,
     "metadata": {},
     "output_type": "execute_result"
    }
   ],
   "source": [
    "type(data.edge_index)"
   ]
  },
  {
   "cell_type": "code",
   "execution_count": 169,
   "id": "313ae952-2b37-4b32-978d-334cc65f9e6a",
   "metadata": {
    "tags": []
   },
   "outputs": [
    {
     "data": {
      "text/plain": [
       "torch.Size([2, 234355])"
      ]
     },
     "execution_count": 169,
     "metadata": {},
     "output_type": "execute_result"
    }
   ],
   "source": [
    "data.edge_index.shape"
   ]
  },
  {
   "cell_type": "code",
   "execution_count": 173,
   "id": "a6df06a6-fc5a-4435-a589-b02e4cbb182e",
   "metadata": {
    "tags": []
   },
   "outputs": [
    {
     "data": {
      "text/plain": [
       "torch.Size([203769, 165])"
      ]
     },
     "execution_count": 173,
     "metadata": {},
     "output_type": "execute_result"
    }
   ],
   "source": [
    "data.x.shape"
   ]
  },
  {
   "cell_type": "code",
   "execution_count": 165,
   "id": "801a7541-1c9c-471d-bfac-0d215a032db0",
   "metadata": {
    "tags": []
   },
   "outputs": [],
   "source": [
    "optimizer=Adam(params=model.parameters(),lr=config['learning_rate'])\n",
    "scheduler=ReduceLROnPlateau(optimizer=optimizer,mode='min')\n",
    "loss=BCELoss()"
   ]
  },
  {
   "cell_type": "code",
   "execution_count": 166,
   "id": "6ed9cf86-9a7c-4a32-bacc-041321f7ce9a",
   "metadata": {
    "tags": []
   },
   "outputs": [],
   "source": [
    "class GAT_Trainer:\n",
    "    def __init__(self,model):\n",
    "        self.model=model\n",
    "    def train(self,data,optimizer,scheduler,loss,config):\n",
    "        self.data=data\n",
    "        epochs=config['epochs']\n",
    "        for epoch in range(epochs):\n",
    "            self.model.train()\n",
    "            optimizer.zero_grad()\n",
    "            predictions=self.model(self.data)\n",
    "            print(predictions)\n",
    "            break\n",
    "        "
   ]
  },
  {
   "cell_type": "code",
   "execution_count": 167,
   "id": "1e652c9f-a6f0-4d68-9d60-ec0765f44a81",
   "metadata": {
    "tags": []
   },
   "outputs": [
    {
     "ename": "RuntimeError",
     "evalue": "expected m1 and m2 to have the same dtype, but got: double != float",
     "output_type": "error",
     "traceback": [
      "\u001b[1;31m---------------------------------------------------------------------------\u001b[0m",
      "\u001b[1;31mRuntimeError\u001b[0m                              Traceback (most recent call last)",
      "Cell \u001b[1;32mIn[167], line 2\u001b[0m\n\u001b[0;32m      1\u001b[0m trainer\u001b[38;5;241m=\u001b[39mGAT_Trainer(model\u001b[38;5;241m=\u001b[39mmodel)\n\u001b[1;32m----> 2\u001b[0m trainer\u001b[38;5;241m.\u001b[39mtrain(data\u001b[38;5;241m=\u001b[39mdata,optimizer\u001b[38;5;241m=\u001b[39moptimizer,scheduler\u001b[38;5;241m=\u001b[39mscheduler,loss\u001b[38;5;241m=\u001b[39mloss,config\u001b[38;5;241m=\u001b[39mconfig)\n",
      "Cell \u001b[1;32mIn[166], line 10\u001b[0m, in \u001b[0;36mGAT_Trainer.train\u001b[1;34m(self, data, optimizer, scheduler, loss, config)\u001b[0m\n\u001b[0;32m      8\u001b[0m \u001b[38;5;28mself\u001b[39m\u001b[38;5;241m.\u001b[39mmodel\u001b[38;5;241m.\u001b[39mtrain()\n\u001b[0;32m      9\u001b[0m optimizer\u001b[38;5;241m.\u001b[39mzero_grad()\n\u001b[1;32m---> 10\u001b[0m predictions\u001b[38;5;241m=\u001b[39m\u001b[38;5;28mself\u001b[39m\u001b[38;5;241m.\u001b[39mmodel(\u001b[38;5;28mself\u001b[39m\u001b[38;5;241m.\u001b[39mdata)\n\u001b[0;32m     11\u001b[0m \u001b[38;5;28mprint\u001b[39m(predictions)\n\u001b[0;32m     12\u001b[0m \u001b[38;5;28;01mbreak\u001b[39;00m\n",
      "File \u001b[1;32m~\\anaconda3\\Lib\\site-packages\\torch\\nn\\modules\\module.py:1518\u001b[0m, in \u001b[0;36mModule._wrapped_call_impl\u001b[1;34m(self, *args, **kwargs)\u001b[0m\n\u001b[0;32m   1516\u001b[0m     \u001b[38;5;28;01mreturn\u001b[39;00m \u001b[38;5;28mself\u001b[39m\u001b[38;5;241m.\u001b[39m_compiled_call_impl(\u001b[38;5;241m*\u001b[39margs, \u001b[38;5;241m*\u001b[39m\u001b[38;5;241m*\u001b[39mkwargs)  \u001b[38;5;66;03m# type: ignore[misc]\u001b[39;00m\n\u001b[0;32m   1517\u001b[0m \u001b[38;5;28;01melse\u001b[39;00m:\n\u001b[1;32m-> 1518\u001b[0m     \u001b[38;5;28;01mreturn\u001b[39;00m \u001b[38;5;28mself\u001b[39m\u001b[38;5;241m.\u001b[39m_call_impl(\u001b[38;5;241m*\u001b[39margs, \u001b[38;5;241m*\u001b[39m\u001b[38;5;241m*\u001b[39mkwargs)\n",
      "File \u001b[1;32m~\\anaconda3\\Lib\\site-packages\\torch\\nn\\modules\\module.py:1527\u001b[0m, in \u001b[0;36mModule._call_impl\u001b[1;34m(self, *args, **kwargs)\u001b[0m\n\u001b[0;32m   1522\u001b[0m \u001b[38;5;66;03m# If we don't have any hooks, we want to skip the rest of the logic in\u001b[39;00m\n\u001b[0;32m   1523\u001b[0m \u001b[38;5;66;03m# this function, and just call forward.\u001b[39;00m\n\u001b[0;32m   1524\u001b[0m \u001b[38;5;28;01mif\u001b[39;00m \u001b[38;5;129;01mnot\u001b[39;00m (\u001b[38;5;28mself\u001b[39m\u001b[38;5;241m.\u001b[39m_backward_hooks \u001b[38;5;129;01mor\u001b[39;00m \u001b[38;5;28mself\u001b[39m\u001b[38;5;241m.\u001b[39m_backward_pre_hooks \u001b[38;5;129;01mor\u001b[39;00m \u001b[38;5;28mself\u001b[39m\u001b[38;5;241m.\u001b[39m_forward_hooks \u001b[38;5;129;01mor\u001b[39;00m \u001b[38;5;28mself\u001b[39m\u001b[38;5;241m.\u001b[39m_forward_pre_hooks\n\u001b[0;32m   1525\u001b[0m         \u001b[38;5;129;01mor\u001b[39;00m _global_backward_pre_hooks \u001b[38;5;129;01mor\u001b[39;00m _global_backward_hooks\n\u001b[0;32m   1526\u001b[0m         \u001b[38;5;129;01mor\u001b[39;00m _global_forward_hooks \u001b[38;5;129;01mor\u001b[39;00m _global_forward_pre_hooks):\n\u001b[1;32m-> 1527\u001b[0m     \u001b[38;5;28;01mreturn\u001b[39;00m forward_call(\u001b[38;5;241m*\u001b[39margs, \u001b[38;5;241m*\u001b[39m\u001b[38;5;241m*\u001b[39mkwargs)\n\u001b[0;32m   1529\u001b[0m \u001b[38;5;28;01mtry\u001b[39;00m:\n\u001b[0;32m   1530\u001b[0m     result \u001b[38;5;241m=\u001b[39m \u001b[38;5;28;01mNone\u001b[39;00m\n",
      "Cell \u001b[1;32mIn[161], line 26\u001b[0m, in \u001b[0;36mGAT_Model.forward\u001b[1;34m(self, data)\u001b[0m\n\u001b[0;32m     23\u001b[0m \u001b[38;5;28;01mdef\u001b[39;00m \u001b[38;5;21mforward\u001b[39m(\u001b[38;5;28mself\u001b[39m, data):\n\u001b[0;32m     24\u001b[0m     x, edge_index \u001b[38;5;241m=\u001b[39m data\u001b[38;5;241m.\u001b[39mx, data\u001b[38;5;241m.\u001b[39medge_index\n\u001b[1;32m---> 26\u001b[0m     x \u001b[38;5;241m=\u001b[39m \u001b[38;5;28mself\u001b[39m\u001b[38;5;241m.\u001b[39mconv1(x, edge_index)\n\u001b[0;32m     27\u001b[0m     x \u001b[38;5;241m=\u001b[39m F\u001b[38;5;241m.\u001b[39mrelu(x)\n\u001b[0;32m     28\u001b[0m     x \u001b[38;5;241m=\u001b[39m F\u001b[38;5;241m.\u001b[39mdropout(x, p\u001b[38;5;241m=\u001b[39m\u001b[38;5;28mself\u001b[39m\u001b[38;5;241m.\u001b[39mconfig[\u001b[38;5;124m'\u001b[39m\u001b[38;5;124mdropout\u001b[39m\u001b[38;5;124m'\u001b[39m], training\u001b[38;5;241m=\u001b[39m\u001b[38;5;28mself\u001b[39m\u001b[38;5;241m.\u001b[39mtraining)\n",
      "File \u001b[1;32m~\\anaconda3\\Lib\\site-packages\\torch\\nn\\modules\\module.py:1518\u001b[0m, in \u001b[0;36mModule._wrapped_call_impl\u001b[1;34m(self, *args, **kwargs)\u001b[0m\n\u001b[0;32m   1516\u001b[0m     \u001b[38;5;28;01mreturn\u001b[39;00m \u001b[38;5;28mself\u001b[39m\u001b[38;5;241m.\u001b[39m_compiled_call_impl(\u001b[38;5;241m*\u001b[39margs, \u001b[38;5;241m*\u001b[39m\u001b[38;5;241m*\u001b[39mkwargs)  \u001b[38;5;66;03m# type: ignore[misc]\u001b[39;00m\n\u001b[0;32m   1517\u001b[0m \u001b[38;5;28;01melse\u001b[39;00m:\n\u001b[1;32m-> 1518\u001b[0m     \u001b[38;5;28;01mreturn\u001b[39;00m \u001b[38;5;28mself\u001b[39m\u001b[38;5;241m.\u001b[39m_call_impl(\u001b[38;5;241m*\u001b[39margs, \u001b[38;5;241m*\u001b[39m\u001b[38;5;241m*\u001b[39mkwargs)\n",
      "File \u001b[1;32m~\\anaconda3\\Lib\\site-packages\\torch\\nn\\modules\\module.py:1527\u001b[0m, in \u001b[0;36mModule._call_impl\u001b[1;34m(self, *args, **kwargs)\u001b[0m\n\u001b[0;32m   1522\u001b[0m \u001b[38;5;66;03m# If we don't have any hooks, we want to skip the rest of the logic in\u001b[39;00m\n\u001b[0;32m   1523\u001b[0m \u001b[38;5;66;03m# this function, and just call forward.\u001b[39;00m\n\u001b[0;32m   1524\u001b[0m \u001b[38;5;28;01mif\u001b[39;00m \u001b[38;5;129;01mnot\u001b[39;00m (\u001b[38;5;28mself\u001b[39m\u001b[38;5;241m.\u001b[39m_backward_hooks \u001b[38;5;129;01mor\u001b[39;00m \u001b[38;5;28mself\u001b[39m\u001b[38;5;241m.\u001b[39m_backward_pre_hooks \u001b[38;5;129;01mor\u001b[39;00m \u001b[38;5;28mself\u001b[39m\u001b[38;5;241m.\u001b[39m_forward_hooks \u001b[38;5;129;01mor\u001b[39;00m \u001b[38;5;28mself\u001b[39m\u001b[38;5;241m.\u001b[39m_forward_pre_hooks\n\u001b[0;32m   1525\u001b[0m         \u001b[38;5;129;01mor\u001b[39;00m _global_backward_pre_hooks \u001b[38;5;129;01mor\u001b[39;00m _global_backward_hooks\n\u001b[0;32m   1526\u001b[0m         \u001b[38;5;129;01mor\u001b[39;00m _global_forward_hooks \u001b[38;5;129;01mor\u001b[39;00m _global_forward_pre_hooks):\n\u001b[1;32m-> 1527\u001b[0m     \u001b[38;5;28;01mreturn\u001b[39;00m forward_call(\u001b[38;5;241m*\u001b[39margs, \u001b[38;5;241m*\u001b[39m\u001b[38;5;241m*\u001b[39mkwargs)\n\u001b[0;32m   1529\u001b[0m \u001b[38;5;28;01mtry\u001b[39;00m:\n\u001b[0;32m   1530\u001b[0m     result \u001b[38;5;241m=\u001b[39m \u001b[38;5;28;01mNone\u001b[39;00m\n",
      "File \u001b[1;32m~\\anaconda3\\Lib\\site-packages\\torch_geometric\\nn\\conv\\gat_conv.py:280\u001b[0m, in \u001b[0;36mGATConv.forward\u001b[1;34m(self, x, edge_index, edge_attr, size, return_attention_weights)\u001b[0m\n\u001b[0;32m    277\u001b[0m \u001b[38;5;28;01massert\u001b[39;00m x\u001b[38;5;241m.\u001b[39mdim() \u001b[38;5;241m==\u001b[39m \u001b[38;5;241m2\u001b[39m, \u001b[38;5;124m\"\u001b[39m\u001b[38;5;124mStatic graphs not supported in \u001b[39m\u001b[38;5;124m'\u001b[39m\u001b[38;5;124mGATConv\u001b[39m\u001b[38;5;124m'\u001b[39m\u001b[38;5;124m\"\u001b[39m\n\u001b[0;32m    279\u001b[0m \u001b[38;5;28;01mif\u001b[39;00m \u001b[38;5;28mself\u001b[39m\u001b[38;5;241m.\u001b[39mlin \u001b[38;5;129;01mis\u001b[39;00m \u001b[38;5;129;01mnot\u001b[39;00m \u001b[38;5;28;01mNone\u001b[39;00m:\n\u001b[1;32m--> 280\u001b[0m     x_src \u001b[38;5;241m=\u001b[39m x_dst \u001b[38;5;241m=\u001b[39m \u001b[38;5;28mself\u001b[39m\u001b[38;5;241m.\u001b[39mlin(x)\u001b[38;5;241m.\u001b[39mview(\u001b[38;5;241m-\u001b[39m\u001b[38;5;241m1\u001b[39m, H, C)\n\u001b[0;32m    281\u001b[0m \u001b[38;5;28;01melse\u001b[39;00m:\n\u001b[0;32m    282\u001b[0m     \u001b[38;5;66;03m# If the module is initialized as bipartite, transform source\u001b[39;00m\n\u001b[0;32m    283\u001b[0m     \u001b[38;5;66;03m# and destination node features separately:\u001b[39;00m\n\u001b[0;32m    284\u001b[0m     \u001b[38;5;28;01massert\u001b[39;00m \u001b[38;5;28mself\u001b[39m\u001b[38;5;241m.\u001b[39mlin_src \u001b[38;5;129;01mis\u001b[39;00m \u001b[38;5;129;01mnot\u001b[39;00m \u001b[38;5;28;01mNone\u001b[39;00m \u001b[38;5;129;01mand\u001b[39;00m \u001b[38;5;28mself\u001b[39m\u001b[38;5;241m.\u001b[39mlin_dst \u001b[38;5;129;01mis\u001b[39;00m \u001b[38;5;129;01mnot\u001b[39;00m \u001b[38;5;28;01mNone\u001b[39;00m\n",
      "File \u001b[1;32m~\\anaconda3\\Lib\\site-packages\\torch\\nn\\modules\\module.py:1518\u001b[0m, in \u001b[0;36mModule._wrapped_call_impl\u001b[1;34m(self, *args, **kwargs)\u001b[0m\n\u001b[0;32m   1516\u001b[0m     \u001b[38;5;28;01mreturn\u001b[39;00m \u001b[38;5;28mself\u001b[39m\u001b[38;5;241m.\u001b[39m_compiled_call_impl(\u001b[38;5;241m*\u001b[39margs, \u001b[38;5;241m*\u001b[39m\u001b[38;5;241m*\u001b[39mkwargs)  \u001b[38;5;66;03m# type: ignore[misc]\u001b[39;00m\n\u001b[0;32m   1517\u001b[0m \u001b[38;5;28;01melse\u001b[39;00m:\n\u001b[1;32m-> 1518\u001b[0m     \u001b[38;5;28;01mreturn\u001b[39;00m \u001b[38;5;28mself\u001b[39m\u001b[38;5;241m.\u001b[39m_call_impl(\u001b[38;5;241m*\u001b[39margs, \u001b[38;5;241m*\u001b[39m\u001b[38;5;241m*\u001b[39mkwargs)\n",
      "File \u001b[1;32m~\\anaconda3\\Lib\\site-packages\\torch\\nn\\modules\\module.py:1527\u001b[0m, in \u001b[0;36mModule._call_impl\u001b[1;34m(self, *args, **kwargs)\u001b[0m\n\u001b[0;32m   1522\u001b[0m \u001b[38;5;66;03m# If we don't have any hooks, we want to skip the rest of the logic in\u001b[39;00m\n\u001b[0;32m   1523\u001b[0m \u001b[38;5;66;03m# this function, and just call forward.\u001b[39;00m\n\u001b[0;32m   1524\u001b[0m \u001b[38;5;28;01mif\u001b[39;00m \u001b[38;5;129;01mnot\u001b[39;00m (\u001b[38;5;28mself\u001b[39m\u001b[38;5;241m.\u001b[39m_backward_hooks \u001b[38;5;129;01mor\u001b[39;00m \u001b[38;5;28mself\u001b[39m\u001b[38;5;241m.\u001b[39m_backward_pre_hooks \u001b[38;5;129;01mor\u001b[39;00m \u001b[38;5;28mself\u001b[39m\u001b[38;5;241m.\u001b[39m_forward_hooks \u001b[38;5;129;01mor\u001b[39;00m \u001b[38;5;28mself\u001b[39m\u001b[38;5;241m.\u001b[39m_forward_pre_hooks\n\u001b[0;32m   1525\u001b[0m         \u001b[38;5;129;01mor\u001b[39;00m _global_backward_pre_hooks \u001b[38;5;129;01mor\u001b[39;00m _global_backward_hooks\n\u001b[0;32m   1526\u001b[0m         \u001b[38;5;129;01mor\u001b[39;00m _global_forward_hooks \u001b[38;5;129;01mor\u001b[39;00m _global_forward_pre_hooks):\n\u001b[1;32m-> 1527\u001b[0m     \u001b[38;5;28;01mreturn\u001b[39;00m forward_call(\u001b[38;5;241m*\u001b[39margs, \u001b[38;5;241m*\u001b[39m\u001b[38;5;241m*\u001b[39mkwargs)\n\u001b[0;32m   1529\u001b[0m \u001b[38;5;28;01mtry\u001b[39;00m:\n\u001b[0;32m   1530\u001b[0m     result \u001b[38;5;241m=\u001b[39m \u001b[38;5;28;01mNone\u001b[39;00m\n",
      "File \u001b[1;32m~\\anaconda3\\Lib\\site-packages\\torch_geometric\\nn\\dense\\linear.py:147\u001b[0m, in \u001b[0;36mLinear.forward\u001b[1;34m(self, x)\u001b[0m\n\u001b[0;32m    141\u001b[0m \u001b[38;5;28;01mdef\u001b[39;00m \u001b[38;5;21mforward\u001b[39m(\u001b[38;5;28mself\u001b[39m, x: Tensor) \u001b[38;5;241m-\u001b[39m\u001b[38;5;241m>\u001b[39m Tensor:\n\u001b[0;32m    142\u001b[0m \u001b[38;5;250m    \u001b[39m\u001b[38;5;124mr\u001b[39m\u001b[38;5;124;03m\"\"\"Forward pass.\u001b[39;00m\n\u001b[0;32m    143\u001b[0m \n\u001b[0;32m    144\u001b[0m \u001b[38;5;124;03m    Args:\u001b[39;00m\n\u001b[0;32m    145\u001b[0m \u001b[38;5;124;03m        x (torch.Tensor): The input features.\u001b[39;00m\n\u001b[0;32m    146\u001b[0m \u001b[38;5;124;03m    \"\"\"\u001b[39;00m\n\u001b[1;32m--> 147\u001b[0m     \u001b[38;5;28;01mreturn\u001b[39;00m F\u001b[38;5;241m.\u001b[39mlinear(x, \u001b[38;5;28mself\u001b[39m\u001b[38;5;241m.\u001b[39mweight, \u001b[38;5;28mself\u001b[39m\u001b[38;5;241m.\u001b[39mbias)\n",
      "\u001b[1;31mRuntimeError\u001b[0m: expected m1 and m2 to have the same dtype, but got: double != float"
     ]
    }
   ],
   "source": [
    "trainer=GAT_Trainer(model=model)\n",
    "trainer.train(data=data,optimizer=optimizer,scheduler=scheduler,loss=loss,config=config)"
   ]
  },
  {
   "cell_type": "code",
   "execution_count": 174,
   "id": "379611dd-c559-49ce-90d1-882ed3bd1e0d",
   "metadata": {
    "tags": []
   },
   "outputs": [
    {
     "ename": "NameError",
     "evalue": "name 'train_data' is not defined",
     "output_type": "error",
     "traceback": [
      "\u001b[1;31m---------------------------------------------------------------------------\u001b[0m",
      "\u001b[1;31mNameError\u001b[0m                                 Traceback (most recent call last)",
      "Cell \u001b[1;32mIn[174], line 1\u001b[0m\n\u001b[1;32m----> 1\u001b[0m train_data\u001b[38;5;241m.\u001b[39mx\u001b[38;5;241m.\u001b[39mshape[\u001b[38;5;241m1\u001b[39m]\n",
      "\u001b[1;31mNameError\u001b[0m: name 'train_data' is not defined"
     ]
    }
   ],
   "source": [
    "train_data.x.shape[1]"
   ]
  },
  {
   "cell_type": "code",
   "execution_count": null,
   "id": "b6265e2d-63f0-47d6-8c81-80c54d73ad95",
   "metadata": {},
   "outputs": [],
   "source": []
  }
 ],
 "metadata": {
  "kernelspec": {
   "display_name": "Python 3 (ipykernel)",
   "language": "python",
   "name": "python3"
  },
  "language_info": {
   "codemirror_mode": {
    "name": "ipython",
    "version": 3
   },
   "file_extension": ".py",
   "mimetype": "text/x-python",
   "name": "python",
   "nbconvert_exporter": "python",
   "pygments_lexer": "ipython3",
   "version": "3.11.5"
  }
 },
 "nbformat": 4,
 "nbformat_minor": 5
}
